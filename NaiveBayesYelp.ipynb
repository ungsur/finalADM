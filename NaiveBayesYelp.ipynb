{
 "cells": [
  {
   "cell_type": "code",
   "execution_count": 1,
   "metadata": {},
   "outputs": [],
   "source": [
    "import sys\n",
    "import string\n",
    "import nltk as nltk\n",
    "from nltk.tokenize import RegexpTokenizer,sent_tokenize,word_tokenize\n",
    "from stop_words import get_stop_words\n",
    "from nltk.stem.porter import PorterStemmer\n",
    "import os\n",
    "from sklearn.metrics import confusion_matrix,classification_report\n",
    "import matplotlib.pyplot as plt\n",
    "import pandas  as pd\n",
    "import json\n",
    "import numpy as np\n",
    "from gensim import corpora\n",
    "import gensim\n",
    "from sklearn import preprocessing\n",
    "from sklearn.naive_bayes import BernoulliNB\n",
    "import json\n",
    "from sklearn.naive_bayes import MultinomialNB"
   ]
  },
  {
   "cell_type": "code",
   "execution_count": 2,
   "metadata": {},
   "outputs": [],
   "source": [
    "busfile ='/home/rungsunan/data/yelp/business.json'\n",
    "reviewfile = '/home/rungsunan/data/yelp/review.json'\n",
    "\n",
    "reviewfilecopy = '/home/rungsunan/data/yelp/reviewcopy.json'\n",
    "reviewfiledir = '/home/rungsunan/data/yelp/'"
   ]
  },
  {
   "cell_type": "code",
   "execution_count": 14,
   "metadata": {},
   "outputs": [
    {
     "data": {
      "text/html": [
       "<div>\n",
       "<style scoped>\n",
       "    .dataframe tbody tr th:only-of-type {\n",
       "        vertical-align: middle;\n",
       "    }\n",
       "\n",
       "    .dataframe tbody tr th {\n",
       "        vertical-align: top;\n",
       "    }\n",
       "\n",
       "    .dataframe thead th {\n",
       "        text-align: right;\n",
       "    }\n",
       "</style>\n",
       "<table border=\"1\" class=\"dataframe\">\n",
       "  <thead>\n",
       "    <tr style=\"text-align: right;\">\n",
       "      <th></th>\n",
       "      <th>address</th>\n",
       "      <th>attributes</th>\n",
       "      <th>business_id</th>\n",
       "      <th>categories</th>\n",
       "      <th>city</th>\n",
       "      <th>hours</th>\n",
       "      <th>is_open</th>\n",
       "      <th>latitude</th>\n",
       "      <th>longitude</th>\n",
       "      <th>name</th>\n",
       "      <th>postal_code</th>\n",
       "      <th>review_count</th>\n",
       "      <th>stars</th>\n",
       "      <th>state</th>\n",
       "    </tr>\n",
       "  </thead>\n",
       "  <tbody>\n",
       "    <tr>\n",
       "      <th>0</th>\n",
       "      <td>2818 E Camino Acequia Drive</td>\n",
       "      <td>{'GoodForKids': 'False'}</td>\n",
       "      <td>1SWheh84yJXfytovILXOAQ</td>\n",
       "      <td>Golf, Active Life</td>\n",
       "      <td>Phoenix</td>\n",
       "      <td>None</td>\n",
       "      <td>0</td>\n",
       "      <td>33.522143</td>\n",
       "      <td>-112.018481</td>\n",
       "      <td>Arizona Biltmore Golf Club</td>\n",
       "      <td>85016</td>\n",
       "      <td>5</td>\n",
       "      <td>3.0</td>\n",
       "      <td>AZ</td>\n",
       "    </tr>\n",
       "    <tr>\n",
       "      <th>1</th>\n",
       "      <td>30 Eglinton Avenue W</td>\n",
       "      <td>{'RestaurantsReservations': 'True', 'GoodForMe...</td>\n",
       "      <td>QXAEGFB4oINsVuTFxEYKFQ</td>\n",
       "      <td>Specialty Food, Restaurants, Dim Sum, Imported...</td>\n",
       "      <td>Mississauga</td>\n",
       "      <td>{'Monday': '9:0-0:0', 'Tuesday': '9:0-0:0', 'W...</td>\n",
       "      <td>1</td>\n",
       "      <td>43.605499</td>\n",
       "      <td>-79.652289</td>\n",
       "      <td>Emerald Chinese Restaurant</td>\n",
       "      <td>L5R 3E7</td>\n",
       "      <td>128</td>\n",
       "      <td>2.5</td>\n",
       "      <td>ON</td>\n",
       "    </tr>\n",
       "    <tr>\n",
       "      <th>2</th>\n",
       "      <td>10110 Johnston Rd, Ste 15</td>\n",
       "      <td>{'GoodForKids': 'True', 'NoiseLevel': 'u'avera...</td>\n",
       "      <td>gnKjwL_1w79qoiV3IC_xQQ</td>\n",
       "      <td>Sushi Bars, Restaurants, Japanese</td>\n",
       "      <td>Charlotte</td>\n",
       "      <td>{'Monday': '17:30-21:30', 'Wednesday': '17:30-...</td>\n",
       "      <td>1</td>\n",
       "      <td>35.092564</td>\n",
       "      <td>-80.859132</td>\n",
       "      <td>Musashi Japanese Restaurant</td>\n",
       "      <td>28210</td>\n",
       "      <td>170</td>\n",
       "      <td>4.0</td>\n",
       "      <td>NC</td>\n",
       "    </tr>\n",
       "    <tr>\n",
       "      <th>3</th>\n",
       "      <td>15655 W Roosevelt St, Ste 237</td>\n",
       "      <td>None</td>\n",
       "      <td>xvX2CttrVhyG2z1dFg_0xw</td>\n",
       "      <td>Insurance, Financial Services</td>\n",
       "      <td>Goodyear</td>\n",
       "      <td>{'Monday': '8:0-17:0', 'Tuesday': '8:0-17:0', ...</td>\n",
       "      <td>1</td>\n",
       "      <td>33.455613</td>\n",
       "      <td>-112.395596</td>\n",
       "      <td>Farmers Insurance - Paul Lorenz</td>\n",
       "      <td>85338</td>\n",
       "      <td>3</td>\n",
       "      <td>5.0</td>\n",
       "      <td>AZ</td>\n",
       "    </tr>\n",
       "    <tr>\n",
       "      <th>4</th>\n",
       "      <td>4209 Stuart Andrew Blvd, Ste F</td>\n",
       "      <td>{'BusinessAcceptsBitcoin': 'False', 'ByAppoint...</td>\n",
       "      <td>HhyxOkGAM07SRYtlQ4wMFQ</td>\n",
       "      <td>Plumbing, Shopping, Local Services, Home Servi...</td>\n",
       "      <td>Charlotte</td>\n",
       "      <td>{'Monday': '7:0-23:0', 'Tuesday': '7:0-23:0', ...</td>\n",
       "      <td>1</td>\n",
       "      <td>35.190012</td>\n",
       "      <td>-80.887223</td>\n",
       "      <td>Queen City Plumbing</td>\n",
       "      <td>28217</td>\n",
       "      <td>4</td>\n",
       "      <td>4.0</td>\n",
       "      <td>NC</td>\n",
       "    </tr>\n",
       "  </tbody>\n",
       "</table>\n",
       "</div>"
      ],
      "text/plain": [
       "                          address  \\\n",
       "0     2818 E Camino Acequia Drive   \n",
       "1            30 Eglinton Avenue W   \n",
       "2       10110 Johnston Rd, Ste 15   \n",
       "3   15655 W Roosevelt St, Ste 237   \n",
       "4  4209 Stuart Andrew Blvd, Ste F   \n",
       "\n",
       "                                          attributes             business_id  \\\n",
       "0                           {'GoodForKids': 'False'}  1SWheh84yJXfytovILXOAQ   \n",
       "1  {'RestaurantsReservations': 'True', 'GoodForMe...  QXAEGFB4oINsVuTFxEYKFQ   \n",
       "2  {'GoodForKids': 'True', 'NoiseLevel': 'u'avera...  gnKjwL_1w79qoiV3IC_xQQ   \n",
       "3                                               None  xvX2CttrVhyG2z1dFg_0xw   \n",
       "4  {'BusinessAcceptsBitcoin': 'False', 'ByAppoint...  HhyxOkGAM07SRYtlQ4wMFQ   \n",
       "\n",
       "                                          categories         city  \\\n",
       "0                                  Golf, Active Life      Phoenix   \n",
       "1  Specialty Food, Restaurants, Dim Sum, Imported...  Mississauga   \n",
       "2                  Sushi Bars, Restaurants, Japanese    Charlotte   \n",
       "3                      Insurance, Financial Services     Goodyear   \n",
       "4  Plumbing, Shopping, Local Services, Home Servi...    Charlotte   \n",
       "\n",
       "                                               hours  is_open   latitude  \\\n",
       "0                                               None        0  33.522143   \n",
       "1  {'Monday': '9:0-0:0', 'Tuesday': '9:0-0:0', 'W...        1  43.605499   \n",
       "2  {'Monday': '17:30-21:30', 'Wednesday': '17:30-...        1  35.092564   \n",
       "3  {'Monday': '8:0-17:0', 'Tuesday': '8:0-17:0', ...        1  33.455613   \n",
       "4  {'Monday': '7:0-23:0', 'Tuesday': '7:0-23:0', ...        1  35.190012   \n",
       "\n",
       "    longitude                             name postal_code  review_count  \\\n",
       "0 -112.018481       Arizona Biltmore Golf Club       85016             5   \n",
       "1  -79.652289       Emerald Chinese Restaurant     L5R 3E7           128   \n",
       "2  -80.859132      Musashi Japanese Restaurant       28210           170   \n",
       "3 -112.395596  Farmers Insurance - Paul Lorenz       85338             3   \n",
       "4  -80.887223              Queen City Plumbing       28217             4   \n",
       "\n",
       "   stars state  \n",
       "0    3.0    AZ  \n",
       "1    2.5    ON  \n",
       "2    4.0    NC  \n",
       "3    5.0    AZ  \n",
       "4    4.0    NC  "
      ]
     },
     "execution_count": 14,
     "metadata": {},
     "output_type": "execute_result"
    }
   ],
   "source": [
    "business_df = pd.read_json(busfile,lines=True)\n",
    "business_df.head()"
   ]
  },
  {
   "cell_type": "markdown",
   "metadata": {},
   "source": [
    "The reviewfile is too big to import with pd.read_json so we use a for loop to process iteratively with a dictionary comprehension. We are only interested in the review text and business id, so we only parse those fields from the json file in order to save space. Since the json file is newline separated, it is better handled with the json.loads() method. "
   ]
  },
  {
   "cell_type": "code",
   "execution_count": 4,
   "metadata": {},
   "outputs": [],
   "source": [
    "revdictlist = []\n",
    "with open('/home/rungsunan/data/yelp/review.json','r') as f1:\n",
    "    for i,line in enumerate(f1,1):\n",
    "      revdictlist.append({ k: v for k, v in json.loads(line).items() if k.startswith('business_id') or k.startswith('text')})"
   ]
  },
  {
   "cell_type": "code",
   "execution_count": 5,
   "metadata": {},
   "outputs": [
    {
     "data": {
      "text/plain": [
       "6685900"
      ]
     },
     "execution_count": 5,
     "metadata": {},
     "output_type": "execute_result"
    }
   ],
   "source": [
    "len(revdictlist)"
   ]
  },
  {
   "cell_type": "code",
   "execution_count": 6,
   "metadata": {},
   "outputs": [
    {
     "data": {
      "text/plain": [
       "{'business_id': 'ujmEBvifdJM6h6RLv4wQIg',\n",
       " 'text': 'Total bill for this horrible service? Over $8Gs. These crooks actually had the nerve to charge us $69 for 3 pills. I checked online the pills can be had for 19 cents EACH! Avoid Hospital ERs at all costs.'}"
      ]
     },
     "execution_count": 6,
     "metadata": {},
     "output_type": "execute_result"
    }
   ],
   "source": [
    "revdictlist[0]"
   ]
  },
  {
   "cell_type": "markdown",
   "metadata": {},
   "source": [
    "Now we have a list of dictionaries containing the business_id and reviewtext of each review. We collapse this list into a single dictionary which has the row number as the key, and the business_id and review text as the fields. "
   ]
  },
  {
   "cell_type": "code",
   "execution_count": 7,
   "metadata": {},
   "outputs": [],
   "source": [
    "reviewdict={}\n",
    "for i,val in enumerate(revdictlist):\n",
    "    reviewdict[i] = val"
   ]
  },
  {
   "cell_type": "code",
   "execution_count": 8,
   "metadata": {},
   "outputs": [
    {
     "data": {
      "text/plain": [
       "{'business_id': 'NZnhc2sEQy3RmzKTZnqtwQ',\n",
       " 'text': \"I *adore* Travis at the Hard Rock's new Kelly Cardenas Salon!  I'm always a fan of a great blowout and no stranger to the chains that offer this service; however, Travis has taken the flawless blowout to a whole new level!  \\n\\nTravis's greets you with his perfectly green swoosh in his otherwise perfectly styled black hair and a Vegas-worthy rockstar outfit.  Next comes the most relaxing and incredible shampoo -- where you get a full head message that could cure even the very worst migraine in minutes --- and the scented shampoo room.  Travis has freakishly strong fingers (in a good way) and use the perfect amount of pressure.  That was superb!  Then starts the glorious blowout... where not one, not two, but THREE people were involved in doing the best round-brush action my hair has ever seen.  The team of stylists clearly gets along extremely well, as it's evident from the way they talk to and help one another that it's really genuine and not some corporate requirement.  It was so much fun to be there! \\n\\nNext Travis started with the flat iron.  The way he flipped his wrist to get volume all around without over-doing it and making me look like a Texas pagent girl was admirable.  It's also worth noting that he didn't fry my hair -- something that I've had happen before with less skilled stylists.  At the end of the blowout & style my hair was perfectly bouncey and looked terrific.  The only thing better?  That this awesome blowout lasted for days! \\n\\nTravis, I will see you every single time I'm out in Vegas.  You make me feel beauuuutiful!\"}"
      ]
     },
     "execution_count": 8,
     "metadata": {},
     "output_type": "execute_result"
    }
   ],
   "source": [
    "reviewdict[1]"
   ]
  },
  {
   "cell_type": "markdown",
   "metadata": {},
   "source": [
    "We convert the dictionary of reviews to a dataframe with the columns business_id and text"
   ]
  },
  {
   "cell_type": "code",
   "execution_count": 9,
   "metadata": {},
   "outputs": [
    {
     "data": {
      "text/html": [
       "<div>\n",
       "<style scoped>\n",
       "    .dataframe tbody tr th:only-of-type {\n",
       "        vertical-align: middle;\n",
       "    }\n",
       "\n",
       "    .dataframe tbody tr th {\n",
       "        vertical-align: top;\n",
       "    }\n",
       "\n",
       "    .dataframe thead th {\n",
       "        text-align: right;\n",
       "    }\n",
       "</style>\n",
       "<table border=\"1\" class=\"dataframe\">\n",
       "  <thead>\n",
       "    <tr style=\"text-align: right;\">\n",
       "      <th></th>\n",
       "      <th>business_id</th>\n",
       "      <th>text</th>\n",
       "    </tr>\n",
       "  </thead>\n",
       "  <tbody>\n",
       "    <tr>\n",
       "      <th>0</th>\n",
       "      <td>ujmEBvifdJM6h6RLv4wQIg</td>\n",
       "      <td>Total bill for this horrible service? Over $8G...</td>\n",
       "    </tr>\n",
       "    <tr>\n",
       "      <th>1</th>\n",
       "      <td>NZnhc2sEQy3RmzKTZnqtwQ</td>\n",
       "      <td>I *adore* Travis at the Hard Rock's new Kelly ...</td>\n",
       "    </tr>\n",
       "    <tr>\n",
       "      <th>2</th>\n",
       "      <td>WTqjgwHlXbSFevF32_DJVw</td>\n",
       "      <td>I have to say that this office really has it t...</td>\n",
       "    </tr>\n",
       "    <tr>\n",
       "      <th>3</th>\n",
       "      <td>ikCg8xy5JIg_NGPx-MSIDA</td>\n",
       "      <td>Went in for a lunch. Steak sandwich was delici...</td>\n",
       "    </tr>\n",
       "    <tr>\n",
       "      <th>4</th>\n",
       "      <td>b1b1eb3uo-w561D0ZfCEiQ</td>\n",
       "      <td>Today was my second out of three sessions I ha...</td>\n",
       "    </tr>\n",
       "  </tbody>\n",
       "</table>\n",
       "</div>"
      ],
      "text/plain": [
       "              business_id                                               text\n",
       "0  ujmEBvifdJM6h6RLv4wQIg  Total bill for this horrible service? Over $8G...\n",
       "1  NZnhc2sEQy3RmzKTZnqtwQ  I *adore* Travis at the Hard Rock's new Kelly ...\n",
       "2  WTqjgwHlXbSFevF32_DJVw  I have to say that this office really has it t...\n",
       "3  ikCg8xy5JIg_NGPx-MSIDA  Went in for a lunch. Steak sandwich was delici...\n",
       "4  b1b1eb3uo-w561D0ZfCEiQ  Today was my second out of three sessions I ha..."
      ]
     },
     "execution_count": 9,
     "metadata": {},
     "output_type": "execute_result"
    }
   ],
   "source": [
    "reviews_df = pd.DataFrame.from_dict(reviewdict,orient='index',columns=['business_id','text'])\n",
    "reviews_df.head()"
   ]
  },
  {
   "cell_type": "markdown",
   "metadata": {},
   "source": [
    "We are making a dataset with just review text of Chinese or Italian restaurants. From the business dataframe we take the businesses with those types in the categories column. From the review list we select the business_id and the review text. Then merge the two dataframes to create a training/test set. "
   ]
  },
  {
   "cell_type": "code",
   "execution_count": 18,
   "metadata": {
    "scrolled": true
   },
   "outputs": [
    {
     "data": {
      "text/html": [
       "<div>\n",
       "<style scoped>\n",
       "    .dataframe tbody tr th:only-of-type {\n",
       "        vertical-align: middle;\n",
       "    }\n",
       "\n",
       "    .dataframe tbody tr th {\n",
       "        vertical-align: top;\n",
       "    }\n",
       "\n",
       "    .dataframe thead th {\n",
       "        text-align: right;\n",
       "    }\n",
       "</style>\n",
       "<table border=\"1\" class=\"dataframe\">\n",
       "  <thead>\n",
       "    <tr style=\"text-align: right;\">\n",
       "      <th></th>\n",
       "      <th>business_id</th>\n",
       "      <th>cuisine</th>\n",
       "    </tr>\n",
       "  </thead>\n",
       "  <tbody>\n",
       "    <tr>\n",
       "      <th>1</th>\n",
       "      <td>QXAEGFB4oINsVuTFxEYKFQ</td>\n",
       "      <td>Chinese</td>\n",
       "    </tr>\n",
       "    <tr>\n",
       "      <th>13</th>\n",
       "      <td>fweCYi8FmbJXHCqLnwuk8w</td>\n",
       "      <td>Italian</td>\n",
       "    </tr>\n",
       "    <tr>\n",
       "      <th>17</th>\n",
       "      <td>PZ-LZzSlhSe9utkQYU8pFg</td>\n",
       "      <td>Italian</td>\n",
       "    </tr>\n",
       "    <tr>\n",
       "      <th>35</th>\n",
       "      <td>BvYU3jvGd0TJ7IyZdfiN2Q</td>\n",
       "      <td>Italian</td>\n",
       "    </tr>\n",
       "    <tr>\n",
       "      <th>45</th>\n",
       "      <td>e_EMySqP0uwlVZfd8mRaaQ</td>\n",
       "      <td>Chinese</td>\n",
       "    </tr>\n",
       "  </tbody>\n",
       "</table>\n",
       "</div>"
      ],
      "text/plain": [
       "               business_id  cuisine\n",
       "1   QXAEGFB4oINsVuTFxEYKFQ  Chinese\n",
       "13  fweCYi8FmbJXHCqLnwuk8w  Italian\n",
       "17  PZ-LZzSlhSe9utkQYU8pFg  Italian\n",
       "35  BvYU3jvGd0TJ7IyZdfiN2Q  Italian\n",
       "45  e_EMySqP0uwlVZfd8mRaaQ  Chinese"
      ]
     },
     "execution_count": 18,
     "metadata": {},
     "output_type": "execute_result"
    }
   ],
   "source": [
    "business_df = business_df[business_df['categories'].str.contains(\"Chinese|Italian\")==True]\n",
    "business_df = business_df[['business_id','categories']]\n",
    "business_df.loc[business_df['categories'].str.contains(\"Chinese\"), \"cuisine\"] = \"Chinese\"\n",
    "business_df.loc[business_df['categories'].str.contains(\"Italian\"), \"cuisine\"] = \"Italian\"\n",
    "business_df = business_df[['business_id','cuisine']]\n",
    "business_df.head()"
   ]
  },
  {
   "cell_type": "code",
   "execution_count": 19,
   "metadata": {},
   "outputs": [
    {
     "name": "stdout",
     "output_type": "stream",
     "text": [
      "Number of Italian or Chinese Restaurants: 9349\n",
      "Number of Italian Restaurants: 4716\n",
      "Number of Chinese Restaurants: 4633\n"
     ]
    }
   ],
   "source": [
    "print('Number of Italian or Chinese Restaurants: ' + \n",
    "      str(len((business_df[(business_df.cuisine == 'Italian') | (business_df.cuisine == 'Chinese')]))))\n",
    "print('Number of Italian Restaurants: ' + str(len((business_df[(business_df.cuisine == 'Italian')]))))\n",
    "print('Number of Chinese Restaurants: ' + str(len((business_df[(business_df.cuisine == 'Chinese')]))))"
   ]
  },
  {
   "cell_type": "markdown",
   "metadata": {},
   "source": [
    "We only are interested in the businessID and the text of the reviews"
   ]
  },
  {
   "cell_type": "code",
   "execution_count": 20,
   "metadata": {},
   "outputs": [
    {
     "data": {
      "text/html": [
       "<div>\n",
       "<style scoped>\n",
       "    .dataframe tbody tr th:only-of-type {\n",
       "        vertical-align: middle;\n",
       "    }\n",
       "\n",
       "    .dataframe tbody tr th {\n",
       "        vertical-align: top;\n",
       "    }\n",
       "\n",
       "    .dataframe thead th {\n",
       "        text-align: right;\n",
       "    }\n",
       "</style>\n",
       "<table border=\"1\" class=\"dataframe\">\n",
       "  <thead>\n",
       "    <tr style=\"text-align: right;\">\n",
       "      <th></th>\n",
       "      <th>business_id</th>\n",
       "      <th>text</th>\n",
       "    </tr>\n",
       "  </thead>\n",
       "  <tbody>\n",
       "    <tr>\n",
       "      <th>0</th>\n",
       "      <td>ujmEBvifdJM6h6RLv4wQIg</td>\n",
       "      <td>Total bill for this horrible service? Over $8G...</td>\n",
       "    </tr>\n",
       "    <tr>\n",
       "      <th>1</th>\n",
       "      <td>NZnhc2sEQy3RmzKTZnqtwQ</td>\n",
       "      <td>I *adore* Travis at the Hard Rock's new Kelly ...</td>\n",
       "    </tr>\n",
       "    <tr>\n",
       "      <th>2</th>\n",
       "      <td>WTqjgwHlXbSFevF32_DJVw</td>\n",
       "      <td>I have to say that this office really has it t...</td>\n",
       "    </tr>\n",
       "    <tr>\n",
       "      <th>3</th>\n",
       "      <td>ikCg8xy5JIg_NGPx-MSIDA</td>\n",
       "      <td>Went in for a lunch. Steak sandwich was delici...</td>\n",
       "    </tr>\n",
       "    <tr>\n",
       "      <th>4</th>\n",
       "      <td>b1b1eb3uo-w561D0ZfCEiQ</td>\n",
       "      <td>Today was my second out of three sessions I ha...</td>\n",
       "    </tr>\n",
       "  </tbody>\n",
       "</table>\n",
       "</div>"
      ],
      "text/plain": [
       "              business_id                                               text\n",
       "0  ujmEBvifdJM6h6RLv4wQIg  Total bill for this horrible service? Over $8G...\n",
       "1  NZnhc2sEQy3RmzKTZnqtwQ  I *adore* Travis at the Hard Rock's new Kelly ...\n",
       "2  WTqjgwHlXbSFevF32_DJVw  I have to say that this office really has it t...\n",
       "3  ikCg8xy5JIg_NGPx-MSIDA  Went in for a lunch. Steak sandwich was delici...\n",
       "4  b1b1eb3uo-w561D0ZfCEiQ  Today was my second out of three sessions I ha..."
      ]
     },
     "execution_count": 20,
     "metadata": {},
     "output_type": "execute_result"
    }
   ],
   "source": [
    "reviews_df = reviews_df[['business_id','text']]\n",
    "reviews_df.head()"
   ]
  },
  {
   "cell_type": "markdown",
   "metadata": {},
   "source": [
    "Finally, we can now merge the two dataframes into one data frame containing the business_id, review_text and cuisine code. "
   ]
  },
  {
   "cell_type": "code",
   "execution_count": 22,
   "metadata": {},
   "outputs": [
    {
     "data": {
      "text/html": [
       "<div>\n",
       "<style scoped>\n",
       "    .dataframe tbody tr th:only-of-type {\n",
       "        vertical-align: middle;\n",
       "    }\n",
       "\n",
       "    .dataframe tbody tr th {\n",
       "        vertical-align: top;\n",
       "    }\n",
       "\n",
       "    .dataframe thead th {\n",
       "        text-align: right;\n",
       "    }\n",
       "</style>\n",
       "<table border=\"1\" class=\"dataframe\">\n",
       "  <thead>\n",
       "    <tr style=\"text-align: right;\">\n",
       "      <th></th>\n",
       "      <th>business_id</th>\n",
       "      <th>cuisine</th>\n",
       "      <th>text</th>\n",
       "    </tr>\n",
       "  </thead>\n",
       "  <tbody>\n",
       "    <tr>\n",
       "      <th>0</th>\n",
       "      <td>QXAEGFB4oINsVuTFxEYKFQ</td>\n",
       "      <td>Chinese</td>\n",
       "      <td>My girlfriend and I went for dinner at Emerald...</td>\n",
       "    </tr>\n",
       "    <tr>\n",
       "      <th>1</th>\n",
       "      <td>QXAEGFB4oINsVuTFxEYKFQ</td>\n",
       "      <td>Chinese</td>\n",
       "      <td>We've always been there on a Sunday so we were...</td>\n",
       "    </tr>\n",
       "    <tr>\n",
       "      <th>2</th>\n",
       "      <td>QXAEGFB4oINsVuTFxEYKFQ</td>\n",
       "      <td>Chinese</td>\n",
       "      <td>***No automatic doors, not baby friendly!*** I...</td>\n",
       "    </tr>\n",
       "    <tr>\n",
       "      <th>3</th>\n",
       "      <td>QXAEGFB4oINsVuTFxEYKFQ</td>\n",
       "      <td>Chinese</td>\n",
       "      <td>Horrible service,\\nI went there tonight with m...</td>\n",
       "    </tr>\n",
       "    <tr>\n",
       "      <th>4</th>\n",
       "      <td>QXAEGFB4oINsVuTFxEYKFQ</td>\n",
       "      <td>Chinese</td>\n",
       "      <td>One of the gauges of a good Chinese restaurant...</td>\n",
       "    </tr>\n",
       "    <tr>\n",
       "      <th>5</th>\n",
       "      <td>QXAEGFB4oINsVuTFxEYKFQ</td>\n",
       "      <td>Chinese</td>\n",
       "      <td>I've been a frequent at this place for years, ...</td>\n",
       "    </tr>\n",
       "    <tr>\n",
       "      <th>6</th>\n",
       "      <td>QXAEGFB4oINsVuTFxEYKFQ</td>\n",
       "      <td>Chinese</td>\n",
       "      <td>We chose this restaurant for our Chinese New Y...</td>\n",
       "    </tr>\n",
       "    <tr>\n",
       "      <th>7</th>\n",
       "      <td>QXAEGFB4oINsVuTFxEYKFQ</td>\n",
       "      <td>Chinese</td>\n",
       "      <td>I went at 230 on a Monday. It was dimsum \\n\\nI...</td>\n",
       "    </tr>\n",
       "    <tr>\n",
       "      <th>8</th>\n",
       "      <td>QXAEGFB4oINsVuTFxEYKFQ</td>\n",
       "      <td>Chinese</td>\n",
       "      <td>My family and I were at Emerald yesterday duri...</td>\n",
       "    </tr>\n",
       "    <tr>\n",
       "      <th>9</th>\n",
       "      <td>QXAEGFB4oINsVuTFxEYKFQ</td>\n",
       "      <td>Chinese</td>\n",
       "      <td>Because we are in Mississauga, I think this pl...</td>\n",
       "    </tr>\n",
       "    <tr>\n",
       "      <th>10</th>\n",
       "      <td>QXAEGFB4oINsVuTFxEYKFQ</td>\n",
       "      <td>Chinese</td>\n",
       "      <td>Whenever I go here on the weekend, this place ...</td>\n",
       "    </tr>\n",
       "    <tr>\n",
       "      <th>11</th>\n",
       "      <td>QXAEGFB4oINsVuTFxEYKFQ</td>\n",
       "      <td>Chinese</td>\n",
       "      <td>Came on a weekday morning with bf to avoid the...</td>\n",
       "    </tr>\n",
       "    <tr>\n",
       "      <th>12</th>\n",
       "      <td>QXAEGFB4oINsVuTFxEYKFQ</td>\n",
       "      <td>Chinese</td>\n",
       "      <td>Despite the poor service here, my family comes...</td>\n",
       "    </tr>\n",
       "    <tr>\n",
       "      <th>13</th>\n",
       "      <td>QXAEGFB4oINsVuTFxEYKFQ</td>\n",
       "      <td>Chinese</td>\n",
       "      <td>The dimsum here is actually alright. Food was ...</td>\n",
       "    </tr>\n",
       "    <tr>\n",
       "      <th>14</th>\n",
       "      <td>QXAEGFB4oINsVuTFxEYKFQ</td>\n",
       "      <td>Chinese</td>\n",
       "      <td>This is one of the few bigger chinese restaura...</td>\n",
       "    </tr>\n",
       "    <tr>\n",
       "      <th>15</th>\n",
       "      <td>QXAEGFB4oINsVuTFxEYKFQ</td>\n",
       "      <td>Chinese</td>\n",
       "      <td>We have been going here to eat for years, whet...</td>\n",
       "    </tr>\n",
       "    <tr>\n",
       "      <th>16</th>\n",
       "      <td>QXAEGFB4oINsVuTFxEYKFQ</td>\n",
       "      <td>Chinese</td>\n",
       "      <td>Good dim sum, not too expensive, out in Missis...</td>\n",
       "    </tr>\n",
       "    <tr>\n",
       "      <th>17</th>\n",
       "      <td>QXAEGFB4oINsVuTFxEYKFQ</td>\n",
       "      <td>Chinese</td>\n",
       "      <td>Traditional and authentic Dim Sum!!! I couldn'...</td>\n",
       "    </tr>\n",
       "    <tr>\n",
       "      <th>18</th>\n",
       "      <td>QXAEGFB4oINsVuTFxEYKFQ</td>\n",
       "      <td>Chinese</td>\n",
       "      <td>Poor service, overpriced food.  Make sure to c...</td>\n",
       "    </tr>\n",
       "    <tr>\n",
       "      <th>19</th>\n",
       "      <td>QXAEGFB4oINsVuTFxEYKFQ</td>\n",
       "      <td>Chinese</td>\n",
       "      <td>This is the second time I've ever been here an...</td>\n",
       "    </tr>\n",
       "    <tr>\n",
       "      <th>20</th>\n",
       "      <td>QXAEGFB4oINsVuTFxEYKFQ</td>\n",
       "      <td>Chinese</td>\n",
       "      <td>Food is really good, the place is super busy d...</td>\n",
       "    </tr>\n",
       "    <tr>\n",
       "      <th>21</th>\n",
       "      <td>QXAEGFB4oINsVuTFxEYKFQ</td>\n",
       "      <td>Chinese</td>\n",
       "      <td>We saw that the rating was not that high, but ...</td>\n",
       "    </tr>\n",
       "    <tr>\n",
       "      <th>22</th>\n",
       "      <td>QXAEGFB4oINsVuTFxEYKFQ</td>\n",
       "      <td>Chinese</td>\n",
       "      <td>My family(15+ ppl) and I came yesterday to cel...</td>\n",
       "    </tr>\n",
       "    <tr>\n",
       "      <th>23</th>\n",
       "      <td>QXAEGFB4oINsVuTFxEYKFQ</td>\n",
       "      <td>Chinese</td>\n",
       "      <td>I would say Emeralds has worsen over a period ...</td>\n",
       "    </tr>\n",
       "    <tr>\n",
       "      <th>24</th>\n",
       "      <td>QXAEGFB4oINsVuTFxEYKFQ</td>\n",
       "      <td>Chinese</td>\n",
       "      <td>The dim sum here is really good.  There was a ...</td>\n",
       "    </tr>\n",
       "    <tr>\n",
       "      <th>25</th>\n",
       "      <td>QXAEGFB4oINsVuTFxEYKFQ</td>\n",
       "      <td>Chinese</td>\n",
       "      <td>I've been here a quite a few times over the la...</td>\n",
       "    </tr>\n",
       "    <tr>\n",
       "      <th>26</th>\n",
       "      <td>QXAEGFB4oINsVuTFxEYKFQ</td>\n",
       "      <td>Chinese</td>\n",
       "      <td>I usually come here when nothing else is open,...</td>\n",
       "    </tr>\n",
       "    <tr>\n",
       "      <th>27</th>\n",
       "      <td>QXAEGFB4oINsVuTFxEYKFQ</td>\n",
       "      <td>Chinese</td>\n",
       "      <td>I usually really like the dim sum here but my ...</td>\n",
       "    </tr>\n",
       "    <tr>\n",
       "      <th>28</th>\n",
       "      <td>QXAEGFB4oINsVuTFxEYKFQ</td>\n",
       "      <td>Chinese</td>\n",
       "      <td>Food was awesome but the service was horrible....</td>\n",
       "    </tr>\n",
       "    <tr>\n",
       "      <th>29</th>\n",
       "      <td>QXAEGFB4oINsVuTFxEYKFQ</td>\n",
       "      <td>Chinese</td>\n",
       "      <td>This is THE place for Dim Sum in Mississauga. ...</td>\n",
       "    </tr>\n",
       "    <tr>\n",
       "      <th>...</th>\n",
       "      <td>...</td>\n",
       "      <td>...</td>\n",
       "      <td>...</td>\n",
       "    </tr>\n",
       "    <tr>\n",
       "      <th>970</th>\n",
       "      <td>tWjfgVtTD5n01Cq9dFWGsA</td>\n",
       "      <td>Italian</td>\n",
       "      <td>Can't  beat the burger and truffle fries with ...</td>\n",
       "    </tr>\n",
       "    <tr>\n",
       "      <th>971</th>\n",
       "      <td>tWjfgVtTD5n01Cq9dFWGsA</td>\n",
       "      <td>Italian</td>\n",
       "      <td>We went to Cibo for Father's Day dinner on Sun...</td>\n",
       "    </tr>\n",
       "    <tr>\n",
       "      <th>972</th>\n",
       "      <td>tWjfgVtTD5n01Cq9dFWGsA</td>\n",
       "      <td>Italian</td>\n",
       "      <td>Great experience!! Food was 10/10 excellent an...</td>\n",
       "    </tr>\n",
       "    <tr>\n",
       "      <th>973</th>\n",
       "      <td>tWjfgVtTD5n01Cq9dFWGsA</td>\n",
       "      <td>Italian</td>\n",
       "      <td>Warm, friendly, happening, loud (just loud eno...</td>\n",
       "    </tr>\n",
       "    <tr>\n",
       "      <th>974</th>\n",
       "      <td>tWjfgVtTD5n01Cq9dFWGsA</td>\n",
       "      <td>Italian</td>\n",
       "      <td>Love myself a good, authentic Italian restaura...</td>\n",
       "    </tr>\n",
       "    <tr>\n",
       "      <th>975</th>\n",
       "      <td>tWjfgVtTD5n01Cq9dFWGsA</td>\n",
       "      <td>Italian</td>\n",
       "      <td>Love happy hour here! $5 for a pizza and $4 fo...</td>\n",
       "    </tr>\n",
       "    <tr>\n",
       "      <th>976</th>\n",
       "      <td>tWjfgVtTD5n01Cq9dFWGsA</td>\n",
       "      <td>Italian</td>\n",
       "      <td>Cibo was okay, it's one of those places I will...</td>\n",
       "    </tr>\n",
       "    <tr>\n",
       "      <th>977</th>\n",
       "      <td>tWjfgVtTD5n01Cq9dFWGsA</td>\n",
       "      <td>Italian</td>\n",
       "      <td>I absolutely love Cibo, it's excellent Italian...</td>\n",
       "    </tr>\n",
       "    <tr>\n",
       "      <th>978</th>\n",
       "      <td>tWjfgVtTD5n01Cq9dFWGsA</td>\n",
       "      <td>Italian</td>\n",
       "      <td>I LOVE this place. I've only ever been here fo...</td>\n",
       "    </tr>\n",
       "    <tr>\n",
       "      <th>979</th>\n",
       "      <td>tWjfgVtTD5n01Cq9dFWGsA</td>\n",
       "      <td>Italian</td>\n",
       "      <td>Terrible. Service was D Grade. Awful experienc...</td>\n",
       "    </tr>\n",
       "    <tr>\n",
       "      <th>980</th>\n",
       "      <td>tWjfgVtTD5n01Cq9dFWGsA</td>\n",
       "      <td>Italian</td>\n",
       "      <td>Cibo was already a go to for ladies night and ...</td>\n",
       "    </tr>\n",
       "    <tr>\n",
       "      <th>981</th>\n",
       "      <td>tWjfgVtTD5n01Cq9dFWGsA</td>\n",
       "      <td>Italian</td>\n",
       "      <td>Frogs legs were great and the wine was good.  ...</td>\n",
       "    </tr>\n",
       "    <tr>\n",
       "      <th>982</th>\n",
       "      <td>tWjfgVtTD5n01Cq9dFWGsA</td>\n",
       "      <td>Italian</td>\n",
       "      <td>Food was great but service was not. We (two ad...</td>\n",
       "    </tr>\n",
       "    <tr>\n",
       "      <th>983</th>\n",
       "      <td>tWjfgVtTD5n01Cq9dFWGsA</td>\n",
       "      <td>Italian</td>\n",
       "      <td>Judging from all the other reviews, Cibo is ve...</td>\n",
       "    </tr>\n",
       "    <tr>\n",
       "      <th>984</th>\n",
       "      <td>tWjfgVtTD5n01Cq9dFWGsA</td>\n",
       "      <td>Italian</td>\n",
       "      <td>Hands down one of my favourite pizza places in...</td>\n",
       "    </tr>\n",
       "    <tr>\n",
       "      <th>985</th>\n",
       "      <td>tWjfgVtTD5n01Cq9dFWGsA</td>\n",
       "      <td>Italian</td>\n",
       "      <td>Yum!!! Delicious and very reasonably priced lu...</td>\n",
       "    </tr>\n",
       "    <tr>\n",
       "      <th>986</th>\n",
       "      <td>tWjfgVtTD5n01Cq9dFWGsA</td>\n",
       "      <td>Italian</td>\n",
       "      <td>3.5/5\\nsuch a cute place on 17th ave! bf &amp; i r...</td>\n",
       "    </tr>\n",
       "    <tr>\n",
       "      <th>987</th>\n",
       "      <td>tWjfgVtTD5n01Cq9dFWGsA</td>\n",
       "      <td>Italian</td>\n",
       "      <td>$5 pizza and $4 pints from 3pm-5pm during the ...</td>\n",
       "    </tr>\n",
       "    <tr>\n",
       "      <th>988</th>\n",
       "      <td>tWjfgVtTD5n01Cq9dFWGsA</td>\n",
       "      <td>Italian</td>\n",
       "      <td>We really like to bring the family to this pla...</td>\n",
       "    </tr>\n",
       "    <tr>\n",
       "      <th>989</th>\n",
       "      <td>tWjfgVtTD5n01Cq9dFWGsA</td>\n",
       "      <td>Italian</td>\n",
       "      <td>I've been to Cibo about three times in the pas...</td>\n",
       "    </tr>\n",
       "    <tr>\n",
       "      <th>990</th>\n",
       "      <td>tWjfgVtTD5n01Cq9dFWGsA</td>\n",
       "      <td>Italian</td>\n",
       "      <td>Hats off to Rachel! She made us stay and expla...</td>\n",
       "    </tr>\n",
       "    <tr>\n",
       "      <th>991</th>\n",
       "      <td>tWjfgVtTD5n01Cq9dFWGsA</td>\n",
       "      <td>Italian</td>\n",
       "      <td>Great food and ambience! We are from out of to...</td>\n",
       "    </tr>\n",
       "    <tr>\n",
       "      <th>992</th>\n",
       "      <td>tWjfgVtTD5n01Cq9dFWGsA</td>\n",
       "      <td>Italian</td>\n",
       "      <td>Good attentive service but food is overpriced ...</td>\n",
       "    </tr>\n",
       "    <tr>\n",
       "      <th>993</th>\n",
       "      <td>CxRBRrtd7NHz890gWPG9AA</td>\n",
       "      <td>Italian</td>\n",
       "      <td>Over the last year or so i have been at this r...</td>\n",
       "    </tr>\n",
       "    <tr>\n",
       "      <th>994</th>\n",
       "      <td>CxRBRrtd7NHz890gWPG9AA</td>\n",
       "      <td>Italian</td>\n",
       "      <td>We started to come to this restaurant when our...</td>\n",
       "    </tr>\n",
       "    <tr>\n",
       "      <th>995</th>\n",
       "      <td>CxRBRrtd7NHz890gWPG9AA</td>\n",
       "      <td>Italian</td>\n",
       "      <td>From the moment I walked up to this restaurant...</td>\n",
       "    </tr>\n",
       "    <tr>\n",
       "      <th>996</th>\n",
       "      <td>CxRBRrtd7NHz890gWPG9AA</td>\n",
       "      <td>Italian</td>\n",
       "      <td>Average. Food is medium taste and nothing to b...</td>\n",
       "    </tr>\n",
       "    <tr>\n",
       "      <th>997</th>\n",
       "      <td>dUffgo9Lh_Vk9TLuFR5ywg</td>\n",
       "      <td>Italian</td>\n",
       "      <td>Great Chicago style pizza.  Sat outside to enj...</td>\n",
       "    </tr>\n",
       "    <tr>\n",
       "      <th>998</th>\n",
       "      <td>dUffgo9Lh_Vk9TLuFR5ywg</td>\n",
       "      <td>Italian</td>\n",
       "      <td>A fun atmosphere and cheerful, attentive servi...</td>\n",
       "    </tr>\n",
       "    <tr>\n",
       "      <th>999</th>\n",
       "      <td>dUffgo9Lh_Vk9TLuFR5ywg</td>\n",
       "      <td>Italian</td>\n",
       "      <td>This place is always crazy busy! For good reas...</td>\n",
       "    </tr>\n",
       "  </tbody>\n",
       "</table>\n",
       "<p>1000 rows × 3 columns</p>\n",
       "</div>"
      ],
      "text/plain": [
       "                business_id  cuisine  \\\n",
       "0    QXAEGFB4oINsVuTFxEYKFQ  Chinese   \n",
       "1    QXAEGFB4oINsVuTFxEYKFQ  Chinese   \n",
       "2    QXAEGFB4oINsVuTFxEYKFQ  Chinese   \n",
       "3    QXAEGFB4oINsVuTFxEYKFQ  Chinese   \n",
       "4    QXAEGFB4oINsVuTFxEYKFQ  Chinese   \n",
       "5    QXAEGFB4oINsVuTFxEYKFQ  Chinese   \n",
       "6    QXAEGFB4oINsVuTFxEYKFQ  Chinese   \n",
       "7    QXAEGFB4oINsVuTFxEYKFQ  Chinese   \n",
       "8    QXAEGFB4oINsVuTFxEYKFQ  Chinese   \n",
       "9    QXAEGFB4oINsVuTFxEYKFQ  Chinese   \n",
       "10   QXAEGFB4oINsVuTFxEYKFQ  Chinese   \n",
       "11   QXAEGFB4oINsVuTFxEYKFQ  Chinese   \n",
       "12   QXAEGFB4oINsVuTFxEYKFQ  Chinese   \n",
       "13   QXAEGFB4oINsVuTFxEYKFQ  Chinese   \n",
       "14   QXAEGFB4oINsVuTFxEYKFQ  Chinese   \n",
       "15   QXAEGFB4oINsVuTFxEYKFQ  Chinese   \n",
       "16   QXAEGFB4oINsVuTFxEYKFQ  Chinese   \n",
       "17   QXAEGFB4oINsVuTFxEYKFQ  Chinese   \n",
       "18   QXAEGFB4oINsVuTFxEYKFQ  Chinese   \n",
       "19   QXAEGFB4oINsVuTFxEYKFQ  Chinese   \n",
       "20   QXAEGFB4oINsVuTFxEYKFQ  Chinese   \n",
       "21   QXAEGFB4oINsVuTFxEYKFQ  Chinese   \n",
       "22   QXAEGFB4oINsVuTFxEYKFQ  Chinese   \n",
       "23   QXAEGFB4oINsVuTFxEYKFQ  Chinese   \n",
       "24   QXAEGFB4oINsVuTFxEYKFQ  Chinese   \n",
       "25   QXAEGFB4oINsVuTFxEYKFQ  Chinese   \n",
       "26   QXAEGFB4oINsVuTFxEYKFQ  Chinese   \n",
       "27   QXAEGFB4oINsVuTFxEYKFQ  Chinese   \n",
       "28   QXAEGFB4oINsVuTFxEYKFQ  Chinese   \n",
       "29   QXAEGFB4oINsVuTFxEYKFQ  Chinese   \n",
       "..                      ...      ...   \n",
       "970  tWjfgVtTD5n01Cq9dFWGsA  Italian   \n",
       "971  tWjfgVtTD5n01Cq9dFWGsA  Italian   \n",
       "972  tWjfgVtTD5n01Cq9dFWGsA  Italian   \n",
       "973  tWjfgVtTD5n01Cq9dFWGsA  Italian   \n",
       "974  tWjfgVtTD5n01Cq9dFWGsA  Italian   \n",
       "975  tWjfgVtTD5n01Cq9dFWGsA  Italian   \n",
       "976  tWjfgVtTD5n01Cq9dFWGsA  Italian   \n",
       "977  tWjfgVtTD5n01Cq9dFWGsA  Italian   \n",
       "978  tWjfgVtTD5n01Cq9dFWGsA  Italian   \n",
       "979  tWjfgVtTD5n01Cq9dFWGsA  Italian   \n",
       "980  tWjfgVtTD5n01Cq9dFWGsA  Italian   \n",
       "981  tWjfgVtTD5n01Cq9dFWGsA  Italian   \n",
       "982  tWjfgVtTD5n01Cq9dFWGsA  Italian   \n",
       "983  tWjfgVtTD5n01Cq9dFWGsA  Italian   \n",
       "984  tWjfgVtTD5n01Cq9dFWGsA  Italian   \n",
       "985  tWjfgVtTD5n01Cq9dFWGsA  Italian   \n",
       "986  tWjfgVtTD5n01Cq9dFWGsA  Italian   \n",
       "987  tWjfgVtTD5n01Cq9dFWGsA  Italian   \n",
       "988  tWjfgVtTD5n01Cq9dFWGsA  Italian   \n",
       "989  tWjfgVtTD5n01Cq9dFWGsA  Italian   \n",
       "990  tWjfgVtTD5n01Cq9dFWGsA  Italian   \n",
       "991  tWjfgVtTD5n01Cq9dFWGsA  Italian   \n",
       "992  tWjfgVtTD5n01Cq9dFWGsA  Italian   \n",
       "993  CxRBRrtd7NHz890gWPG9AA  Italian   \n",
       "994  CxRBRrtd7NHz890gWPG9AA  Italian   \n",
       "995  CxRBRrtd7NHz890gWPG9AA  Italian   \n",
       "996  CxRBRrtd7NHz890gWPG9AA  Italian   \n",
       "997  dUffgo9Lh_Vk9TLuFR5ywg  Italian   \n",
       "998  dUffgo9Lh_Vk9TLuFR5ywg  Italian   \n",
       "999  dUffgo9Lh_Vk9TLuFR5ywg  Italian   \n",
       "\n",
       "                                                  text  \n",
       "0    My girlfriend and I went for dinner at Emerald...  \n",
       "1    We've always been there on a Sunday so we were...  \n",
       "2    ***No automatic doors, not baby friendly!*** I...  \n",
       "3    Horrible service,\\nI went there tonight with m...  \n",
       "4    One of the gauges of a good Chinese restaurant...  \n",
       "5    I've been a frequent at this place for years, ...  \n",
       "6    We chose this restaurant for our Chinese New Y...  \n",
       "7    I went at 230 on a Monday. It was dimsum \\n\\nI...  \n",
       "8    My family and I were at Emerald yesterday duri...  \n",
       "9    Because we are in Mississauga, I think this pl...  \n",
       "10   Whenever I go here on the weekend, this place ...  \n",
       "11   Came on a weekday morning with bf to avoid the...  \n",
       "12   Despite the poor service here, my family comes...  \n",
       "13   The dimsum here is actually alright. Food was ...  \n",
       "14   This is one of the few bigger chinese restaura...  \n",
       "15   We have been going here to eat for years, whet...  \n",
       "16   Good dim sum, not too expensive, out in Missis...  \n",
       "17   Traditional and authentic Dim Sum!!! I couldn'...  \n",
       "18   Poor service, overpriced food.  Make sure to c...  \n",
       "19   This is the second time I've ever been here an...  \n",
       "20   Food is really good, the place is super busy d...  \n",
       "21   We saw that the rating was not that high, but ...  \n",
       "22   My family(15+ ppl) and I came yesterday to cel...  \n",
       "23   I would say Emeralds has worsen over a period ...  \n",
       "24   The dim sum here is really good.  There was a ...  \n",
       "25   I've been here a quite a few times over the la...  \n",
       "26   I usually come here when nothing else is open,...  \n",
       "27   I usually really like the dim sum here but my ...  \n",
       "28   Food was awesome but the service was horrible....  \n",
       "29   This is THE place for Dim Sum in Mississauga. ...  \n",
       "..                                                 ...  \n",
       "970  Can't  beat the burger and truffle fries with ...  \n",
       "971  We went to Cibo for Father's Day dinner on Sun...  \n",
       "972  Great experience!! Food was 10/10 excellent an...  \n",
       "973  Warm, friendly, happening, loud (just loud eno...  \n",
       "974  Love myself a good, authentic Italian restaura...  \n",
       "975  Love happy hour here! $5 for a pizza and $4 fo...  \n",
       "976  Cibo was okay, it's one of those places I will...  \n",
       "977  I absolutely love Cibo, it's excellent Italian...  \n",
       "978  I LOVE this place. I've only ever been here fo...  \n",
       "979  Terrible. Service was D Grade. Awful experienc...  \n",
       "980  Cibo was already a go to for ladies night and ...  \n",
       "981  Frogs legs were great and the wine was good.  ...  \n",
       "982  Food was great but service was not. We (two ad...  \n",
       "983  Judging from all the other reviews, Cibo is ve...  \n",
       "984  Hands down one of my favourite pizza places in...  \n",
       "985  Yum!!! Delicious and very reasonably priced lu...  \n",
       "986  3.5/5\\nsuch a cute place on 17th ave! bf & i r...  \n",
       "987  $5 pizza and $4 pints from 3pm-5pm during the ...  \n",
       "988  We really like to bring the family to this pla...  \n",
       "989  I've been to Cibo about three times in the pas...  \n",
       "990  Hats off to Rachel! She made us stay and expla...  \n",
       "991  Great food and ambience! We are from out of to...  \n",
       "992  Good attentive service but food is overpriced ...  \n",
       "993  Over the last year or so i have been at this r...  \n",
       "994  We started to come to this restaurant when our...  \n",
       "995  From the moment I walked up to this restaurant...  \n",
       "996  Average. Food is medium taste and nothing to b...  \n",
       "997  Great Chicago style pizza.  Sat outside to enj...  \n",
       "998  A fun atmosphere and cheerful, attentive servi...  \n",
       "999  This place is always crazy busy! For good reas...  \n",
       "\n",
       "[1000 rows x 3 columns]"
      ]
     },
     "execution_count": 22,
     "metadata": {},
     "output_type": "execute_result"
    }
   ],
   "source": [
    "final_df =  pd.merge(business_df,reviews_df,on='business_id')\n",
    "final_df.head(1000)"
   ]
  },
  {
   "cell_type": "code",
   "execution_count": 23,
   "metadata": {},
   "outputs": [
    {
     "name": "stdout",
     "output_type": "stream",
     "text": [
      "Number of Italian Restaurant reviews: 392125\n",
      "Number of Chinese Restaurant reviews: 262695\n"
     ]
    }
   ],
   "source": [
    "print('Number of Italian Restaurant reviews: ' + str(len((final_df[(final_df.cuisine == 'Italian')]))))\n",
    "print('Number of Chinese Restaurant reviews: ' + str(len((final_df[(final_df.cuisine == 'Chinese')]))))"
   ]
  },
  {
   "cell_type": "markdown",
   "metadata": {},
   "source": [
    "For text analysis we use a code for the cuisine type(-1 for italian, 1 for chinese), and make all of the text lowercase for stemming."
   ]
  },
  {
   "cell_type": "code",
   "execution_count": 24,
   "metadata": {},
   "outputs": [],
   "source": [
    "final_df[\"cuisine_code\"] = np.where(final_df[\"cuisine\"].str.contains(\"Italian\"), 1,-1)\n",
    "final_df['text'] = final_df['text'].str.lower()"
   ]
  },
  {
   "cell_type": "markdown",
   "metadata": {},
   "source": [
    "# Exploratory"
   ]
  },
  {
   "cell_type": "code",
   "execution_count": 25,
   "metadata": {},
   "outputs": [
    {
     "data": {
      "text/plain": [
       "count    654820.000000\n",
       "mean        597.582896\n",
       "std         560.578110\n",
       "min           1.000000\n",
       "25%         232.000000\n",
       "50%         420.000000\n",
       "75%         765.000000\n",
       "max        5000.000000\n",
       "Name: length, dtype: float64"
      ]
     },
     "execution_count": 25,
     "metadata": {},
     "output_type": "execute_result"
    }
   ],
   "source": [
    "final_df['length'] = final_df['text'].apply(len)\n",
    "final_df.length.describe()"
   ]
  },
  {
   "cell_type": "code",
   "execution_count": 26,
   "metadata": {},
   "outputs": [
    {
     "data": {
      "text/html": [
       "<div>\n",
       "<style scoped>\n",
       "    .dataframe tbody tr th:only-of-type {\n",
       "        vertical-align: middle;\n",
       "    }\n",
       "\n",
       "    .dataframe tbody tr th {\n",
       "        vertical-align: top;\n",
       "    }\n",
       "\n",
       "    .dataframe thead th {\n",
       "        text-align: right;\n",
       "    }\n",
       "</style>\n",
       "<table border=\"1\" class=\"dataframe\">\n",
       "  <thead>\n",
       "    <tr style=\"text-align: right;\">\n",
       "      <th></th>\n",
       "      <th>business_id</th>\n",
       "      <th>cuisine</th>\n",
       "      <th>text</th>\n",
       "      <th>cuisine_code</th>\n",
       "      <th>length</th>\n",
       "    </tr>\n",
       "  </thead>\n",
       "  <tbody>\n",
       "    <tr>\n",
       "      <th>0</th>\n",
       "      <td>QXAEGFB4oINsVuTFxEYKFQ</td>\n",
       "      <td>Chinese</td>\n",
       "      <td>my girlfriend and i went for dinner at emerald...</td>\n",
       "      <td>-1</td>\n",
       "      <td>1475</td>\n",
       "    </tr>\n",
       "    <tr>\n",
       "      <th>1</th>\n",
       "      <td>QXAEGFB4oINsVuTFxEYKFQ</td>\n",
       "      <td>Chinese</td>\n",
       "      <td>we've always been there on a sunday so we were...</td>\n",
       "      <td>-1</td>\n",
       "      <td>439</td>\n",
       "    </tr>\n",
       "    <tr>\n",
       "      <th>2</th>\n",
       "      <td>QXAEGFB4oINsVuTFxEYKFQ</td>\n",
       "      <td>Chinese</td>\n",
       "      <td>***no automatic doors, not baby friendly!*** i...</td>\n",
       "      <td>-1</td>\n",
       "      <td>252</td>\n",
       "    </tr>\n",
       "    <tr>\n",
       "      <th>3</th>\n",
       "      <td>QXAEGFB4oINsVuTFxEYKFQ</td>\n",
       "      <td>Chinese</td>\n",
       "      <td>horrible service,\\ni went there tonight with m...</td>\n",
       "      <td>-1</td>\n",
       "      <td>1113</td>\n",
       "    </tr>\n",
       "    <tr>\n",
       "      <th>4</th>\n",
       "      <td>QXAEGFB4oINsVuTFxEYKFQ</td>\n",
       "      <td>Chinese</td>\n",
       "      <td>one of the gauges of a good chinese restaurant...</td>\n",
       "      <td>-1</td>\n",
       "      <td>1668</td>\n",
       "    </tr>\n",
       "  </tbody>\n",
       "</table>\n",
       "</div>"
      ],
      "text/plain": [
       "              business_id  cuisine  \\\n",
       "0  QXAEGFB4oINsVuTFxEYKFQ  Chinese   \n",
       "1  QXAEGFB4oINsVuTFxEYKFQ  Chinese   \n",
       "2  QXAEGFB4oINsVuTFxEYKFQ  Chinese   \n",
       "3  QXAEGFB4oINsVuTFxEYKFQ  Chinese   \n",
       "4  QXAEGFB4oINsVuTFxEYKFQ  Chinese   \n",
       "\n",
       "                                                text  cuisine_code  length  \n",
       "0  my girlfriend and i went for dinner at emerald...            -1    1475  \n",
       "1  we've always been there on a sunday so we were...            -1     439  \n",
       "2  ***no automatic doors, not baby friendly!*** i...            -1     252  \n",
       "3  horrible service,\\ni went there tonight with m...            -1    1113  \n",
       "4  one of the gauges of a good chinese restaurant...            -1    1668  "
      ]
     },
     "execution_count": 26,
     "metadata": {},
     "output_type": "execute_result"
    }
   ],
   "source": [
    "final_df.head()"
   ]
  },
  {
   "cell_type": "code",
   "execution_count": null,
   "metadata": {},
   "outputs": [],
   "source": [
    "stop_words = get_stop_words(\"english\")\n",
    "print(stop_words)\n",
    "len(stop_words)"
   ]
  },
  {
   "cell_type": "code",
   "execution_count": null,
   "metadata": {},
   "outputs": [],
   "source": [
    "outcome_reviews = list(zip(final_df.cuisine_code,final_df.text))\n",
    "print(\"Total number of Chinese/Italian reviews: \" + str(len(outcome_reviews)))\n",
    "outcome_reviews[0]"
   ]
  },
  {
   "cell_type": "markdown",
   "metadata": {},
   "source": [
    "let's put the text and the cuisine code into a set(reviewtext, cuisinecode)"
   ]
  },
  {
   "cell_type": "code",
   "execution_count": null,
   "metadata": {},
   "outputs": [],
   "source": [
    "outcomeslist, reviewslist = list(zip(*outcome_reviews))"
   ]
  },
  {
   "cell_type": "code",
   "execution_count": null,
   "metadata": {},
   "outputs": [],
   "source": [
    "outcomeslist[0],reviewslist[0]"
   ]
  },
  {
   "cell_type": "code",
   "execution_count": null,
   "metadata": {},
   "outputs": [],
   "source": [
    "tokenizer = RegexpTokenizer(r'\\s+', gaps=True)\n",
    "\n",
    "# create English stop words list\n",
    "en_stop = set(get_stop_words('en'))\n",
    "#print(en_stop)\n",
    "# Create p_stemmer of class PorterStemmer\n",
    "p_stemmer = PorterStemmer()"
   ]
  },
  {
   "cell_type": "code",
   "execution_count": null,
   "metadata": {},
   "outputs": [],
   "source": [
    "punctuation_string = '\\\"?!@#$%^&*()\\';:+,/.-|~=\\\\'\n",
    "table = str.maketrans(dict.fromkeys(punctuation_string))"
   ]
  },
  {
   "cell_type": "code",
   "execution_count": null,
   "metadata": {},
   "outputs": [],
   "source": [
    "corpus = []\n",
    "for review in reviewslist:\n",
    "    raw = review.translate(table)\n",
    "    tokens = tokenizer.tokenize(raw)\n",
    "    # remove stop words from tokens\n",
    "    stopped_tokens = [j for j in tokens if not j in en_stop]\n",
    "    # print(tokens)\n",
    "    # stem tokens\n",
    "    stemmed_tokens = [p_stemmer.stem(k) for k in stopped_tokens]\n",
    "    corpus.append(stemmed_tokens)"
   ]
  },
  {
   "cell_type": "code",
   "execution_count": null,
   "metadata": {},
   "outputs": [],
   "source": [
    "corpus[0]"
   ]
  },
  {
   "cell_type": "code",
   "execution_count": null,
   "metadata": {},
   "outputs": [],
   "source": [
    "dictionary = gensim.corpora.Dictionary(corpus)"
   ]
  },
  {
   "cell_type": "code",
   "execution_count": null,
   "metadata": {},
   "outputs": [],
   "source": [
    "lexicon = [dictionary.doc2bow(doc) for doc in corpus ] "
   ]
  },
  {
   "cell_type": "code",
   "execution_count": null,
   "metadata": {},
   "outputs": [],
   "source": [
    "outcomeslist[0]"
   ]
  },
  {
   "cell_type": "code",
   "execution_count": null,
   "metadata": {},
   "outputs": [],
   "source": [
    "tfidf = gensim.models.TfidfModel(dictionary=dictionary,normalize=True)"
   ]
  },
  {
   "cell_type": "code",
   "execution_count": null,
   "metadata": {},
   "outputs": [],
   "source": [
    "vectors = [tfidf[id2word.doc2bow(doc)] for doc in corpus ] "
   ]
  },
  {
   "cell_type": "code",
   "execution_count": null,
   "metadata": {},
   "outputs": [],
   "source": [
    "vectors[2]"
   ]
  },
  {
   "cell_type": "code",
   "execution_count": null,
   "metadata": {},
   "outputs": [],
   "source": [
    "corpus_bow = [id2word.doc2bow(doc) for doc in corpus ]"
   ]
  },
  {
   "cell_type": "code",
   "execution_count": null,
   "metadata": {},
   "outputs": [],
   "source": [
    "corpus_bow[0]"
   ]
  },
  {
   "cell_type": "code",
   "execution_count": null,
   "metadata": {},
   "outputs": [],
   "source": []
  },
  {
   "cell_type": "code",
   "execution_count": null,
   "metadata": {},
   "outputs": [],
   "source": [
    "from sklearn.feature_extraction.text import CountVectorizer\n",
    "count_vect = CountVectorizer()\n",
    "X_train_counts = count_vect.fit_transform(list(final_df.text))"
   ]
  },
  {
   "cell_type": "code",
   "execution_count": null,
   "metadata": {},
   "outputs": [],
   "source": [
    "count_vect.vocabulary_"
   ]
  },
  {
   "cell_type": "code",
   "execution_count": null,
   "metadata": {},
   "outputs": [],
   "source": [
    "rev4= reviewslist[4]"
   ]
  },
  {
   "cell_type": "code",
   "execution_count": null,
   "metadata": {},
   "outputs": [],
   "source": [
    "bow4 = count_vect.transform([rev4])\n",
    "print(bow4)\n",
    "print(bow4.shape)"
   ]
  },
  {
   "cell_type": "code",
   "execution_count": null,
   "metadata": {},
   "outputs": [],
   "source": [
    "print(count_vect.get_feature_names()[90274])"
   ]
  },
  {
   "cell_type": "code",
   "execution_count": null,
   "metadata": {},
   "outputs": [],
   "source": [
    "from sklearn.feature_extraction.text import TfidfTransformer\n",
    "tf_transformer = TfidfTransformer(use_idf=False).fit(X_train_counts)"
   ]
  },
  {
   "cell_type": "code",
   "execution_count": null,
   "metadata": {},
   "outputs": [],
   "source": []
  },
  {
   "cell_type": "code",
   "execution_count": null,
   "metadata": {},
   "outputs": [],
   "source": [
    "X_train_tf = tf_transformer.transform(X_train_counts)\n",
    "X_train_tf.shape"
   ]
  },
  {
   "cell_type": "code",
   "execution_count": null,
   "metadata": {},
   "outputs": [],
   "source": [
    "tfidf_transformer = TfidfTransformer()\n",
    "X_train_tfidf = tfidf_transformer.fit_transform(X_train_counts)\n",
    "X_train_tfidf.shape"
   ]
  },
  {
   "cell_type": "code",
   "execution_count": null,
   "metadata": {},
   "outputs": [],
   "source": [
    "clf = MultinomialNB().fit(X_train_tfidf, outcomeslist)"
   ]
  },
  {
   "cell_type": "code",
   "execution_count": null,
   "metadata": {},
   "outputs": [],
   "source": [
    "X_test[0]"
   ]
  },
  {
   "cell_type": "code",
   "execution_count": null,
   "metadata": {},
   "outputs": [],
   "source": [
    "X_test_counts = count_vect.fit_transform(X_test)"
   ]
  },
  {
   "cell_type": "code",
   "execution_count": null,
   "metadata": {},
   "outputs": [],
   "source": [
    "X_test_tfidf = tfidf_transformer.fit_transform(X_test_counts)\n",
    "X_test_tfidf.shape"
   ]
  },
  {
   "cell_type": "code",
   "execution_count": null,
   "metadata": {},
   "outputs": [],
   "source": [
    "a= clf.predict(X_train_counts)"
   ]
  },
  {
   "cell_type": "code",
   "execution_count": null,
   "metadata": {},
   "outputs": [],
   "source": [
    "a"
   ]
  },
  {
   "cell_type": "code",
   "execution_count": null,
   "metadata": {},
   "outputs": [],
   "source": [
    "print(accuracy_score(outcomeslist,a))\n",
    "print(confusion_matrix(outcomeslist,a))"
   ]
  },
  {
   "cell_type": "code",
   "execution_count": null,
   "metadata": {},
   "outputs": [],
   "source": [
    "train_data_features = vectorizer.fit_transform(corpus_bow)"
   ]
  },
  {
   "cell_type": "code",
   "execution_count": null,
   "metadata": {},
   "outputs": [],
   "source": [
    "\n",
    "plt.matshow(confusion_matrix(outcomeslist, a), cmap=plt.cm.binary, interpolation='nearest')\n",
    "plt.title('confusion matrix')\n",
    "plt.colorbar()\n",
    "plt.ylabel('expected label')\n",
    "plt.xlabel('predicted label')"
   ]
  },
  {
   "cell_type": "code",
   "execution_count": null,
   "metadata": {},
   "outputs": [],
   "source": [
    "print(classification_report(outcomeslist,a))"
   ]
  },
  {
   "cell_type": "code",
   "execution_count": null,
   "metadata": {},
   "outputs": [],
   "source": [
    "final_df.length.describe()"
   ]
  },
  {
   "cell_type": "code",
   "execution_count": null,
   "metadata": {},
   "outputs": [],
   "source": [
    "final_df.length.plot(bins=20, kind='hist')"
   ]
  },
  {
   "cell_type": "code",
   "execution_count": null,
   "metadata": {},
   "outputs": [],
   "source": [
    "final_df.hist(column='length', bins=50)"
   ]
  },
  {
   "cell_type": "code",
   "execution_count": null,
   "metadata": {},
   "outputs": [],
   "source": [
    "from sklearn.model_selection import train_test_split, cross_val_score\n",
    "?train_test_split"
   ]
  },
  {
   "cell_type": "code",
   "execution_count": null,
   "metadata": {},
   "outputs": [],
   "source": [
    "X_train, X_test, y_train, y_test = train_test_split(list(final_df.text),outcomeslist, test_size=0.33, random_state=42)\n",
    "\n",
    "print(len(X_train),len(X_test),len(X_train)+len(X_test))"
   ]
  },
  {
   "cell_type": "code",
   "execution_count": null,
   "metadata": {},
   "outputs": [],
   "source": [
    "len(X_train)"
   ]
  },
  {
   "cell_type": "code",
   "execution_count": null,
   "metadata": {},
   "outputs": [],
   "source": [
    "\n",
    "%time cuisine_detector = MultinomialNB().fit(X_train_tfidf,outcomeslist)"
   ]
  },
  {
   "cell_type": "code",
   "execution_count": null,
   "metadata": {},
   "outputs": [],
   "source": [
    "print ('predicted:', cuisine_detector.predict(bow4)[0])\n",
    "print ('expected:', outcomeslist[3])"
   ]
  },
  {
   "cell_type": "code",
   "execution_count": null,
   "metadata": {},
   "outputs": [],
   "source": [
    "pipeline = Pipeline([\n",
    "    ('bow', CountVectorizer()),  # strings to token integer counts\n",
    "    ('tfidf', TfidfTransformer()),  # integer counts to weighted TF-IDF scores\n",
    "    ('classifier', MultinomialNB()),  # train on TF-IDF vectors w/ Naive Bayes classifier\n",
    "])"
   ]
  },
  {
   "cell_type": "code",
   "execution_count": null,
   "metadata": {},
   "outputs": [],
   "source": [
    "scores = cross_val_score(pipeline,  # steps to convert raw messages into models\n",
    "                         X_train,  # training data\n",
    "                         y_train,  # training labels\n",
    "                         cv=10,  # split data randomly into 10 parts: 9 for training, 1 for scoring\n",
    "                         scoring='accuracy' # which scoring metric?\n",
    "                         \n",
    "                         )\n",
    "print (scores)"
   ]
  },
  {
   "cell_type": "code",
   "execution_count": null,
   "metadata": {},
   "outputs": [],
   "source": [
    "print( scores.mean(), scores.std())"
   ]
  },
  {
   "cell_type": "code",
   "execution_count": null,
   "metadata": {},
   "outputs": [],
   "source": []
  },
  {
   "cell_type": "code",
   "execution_count": null,
   "metadata": {},
   "outputs": [],
   "source": []
  },
  {
   "cell_type": "code",
   "execution_count": null,
   "metadata": {},
   "outputs": [],
   "source": []
  },
  {
   "cell_type": "code",
   "execution_count": null,
   "metadata": {},
   "outputs": [],
   "source": [
    "filecounter=0\n",
    "array = []\n",
    "with open(reviewfile, \"r\") as f:\n",
    "  for i,line in enumerate(f,1):\n",
    "    array.append(line)\n",
    "    if ((i % 500000) == 0):\n",
    "      filecounter += 1\n",
    "      reviewfilename = reviewfiledir + 'reviewfile_' + str(filecounter) + '.json'\n",
    "      with open(reviewfilename, \"w\") as x:\n",
    "            x.write(''.join(array))\n",
    "      array = []\n",
    "f.close()"
   ]
  },
  {
   "cell_type": "code",
   "execution_count": null,
   "metadata": {},
   "outputs": [],
   "source": [
    "with open('/home/rungsunan/data/yelp/reviewtext.json', \"w\") as x:\n",
    "            json.dump(reviewdict,x)"
   ]
  },
  {
   "cell_type": "code",
   "execution_count": null,
   "metadata": {},
   "outputs": [],
   "source": [
    "filelist = [x for x in list(os.listdir('/home/rungsunan/data/yelp')) if x[:10] == 'reviewfile']"
   ]
  },
  {
   "cell_type": "code",
   "execution_count": null,
   "metadata": {},
   "outputs": [],
   "source": [
    "li = []\n",
    "for filename in filelist:\n",
    "    df = pd.read_json(reviewfiledir + filename,lines=True)\n",
    "    li.append(df)\n",
    "\n",
    "frame = pd.concat(li, axis=0, ignore_index=True)"
   ]
  },
  {
   "cell_type": "code",
   "execution_count": null,
   "metadata": {},
   "outputs": [],
   "source": [
    "json.loads(reviewfiledir+'reviewfile_1.json')"
   ]
  },
  {
   "cell_type": "code",
   "execution_count": null,
   "metadata": {},
   "outputs": [],
   "source": [
    "with open(reviewfiledir + 'reviewfile_1.json',\"r\") as f:\n",
    "    for i,line in enumerate(f):\n",
    "        testdict = json.loads(line)"
   ]
  }
 ],
 "metadata": {
  "kernelspec": {
   "display_name": "Python [conda env:py37]",
   "language": "python",
   "name": "conda-env-py37-py"
  },
  "language_info": {
   "codemirror_mode": {
    "name": "ipython",
    "version": 3
   },
   "file_extension": ".py",
   "mimetype": "text/x-python",
   "name": "python",
   "nbconvert_exporter": "python",
   "pygments_lexer": "ipython3",
   "version": "3.7.1"
  }
 },
 "nbformat": 4,
 "nbformat_minor": 2
}
