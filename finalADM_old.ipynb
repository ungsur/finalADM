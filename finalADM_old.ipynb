{
 "cells": [
  {
   "cell_type": "code",
   "execution_count": null,
   "metadata": {
    "collapsed": true
   },
   "outputs": [],
   "source": [
    "#encoding=utf8\n",
    "import sys\n",
    "import string\n",
    " \n",
    "from nltk.tokenize import RegexpTokenizer\n",
    "from stop_words import get_stop_words\n",
    "from nltk.stem.porter import PorterStemmer\n",
    "import os\n",
    "from gensim import corpora, models\n",
    "import json\n",
    "import pandas as pd\n",
    "import logging \n",
    "logging.basicConfig(format='%(asctime)s : %(levelname)s : %(message)s', level=logging.INFO)\n",
    "from sklearn.datasets import load_svmlight_file\n",
    "\n",
    "from sklearn import  svm\n",
    "from sklearn.model_selection import train_test_split, GridSearchCV,cross_val_score\n",
    "from sklearn.metrics import confusion_matrix,classification_report\n",
    "import matplotlib.pyplot as plt\n",
    "import pandas \n",
    "import numpy as np\n",
    "from collections import defaultdict\n",
    "from sklearn.neighbors import KNeighborsClassifier\n"
   ]
  },
  {
   "cell_type": "code",
   "execution_count": null,
   "metadata": {
    "collapsed": true
   },
   "outputs": [],
   "source": [
    "np.__config__.show()"
   ]
  },
  {
   "cell_type": "code",
   "execution_count": 3,
   "metadata": {
    "collapsed": true
   },
   "outputs": [],
   "source": [
    "bus_list = []\n",
    "with open('/Volumes/data/yelp2016/yelp_dataset_challenge_academic_dataset/yelp_academic_dataset_business.json') as data_file:    \n",
    "    for line in data_file:\n",
    "        bus_list.append(json.loads(line))"
   ]
  },
  {
   "cell_type": "code",
   "execution_count": 4,
   "metadata": {},
   "outputs": [
    {
     "data": {
      "text/plain": [
       "{'attributes': {'Accepts Credit Cards': True,\n",
       "  'Alcohol': 'none',\n",
       "  'Ambience': {'casual': False,\n",
       "   'classy': False,\n",
       "   'divey': False,\n",
       "   'hipster': False,\n",
       "   'intimate': False,\n",
       "   'romantic': False,\n",
       "   'touristy': False,\n",
       "   'trendy': False,\n",
       "   'upscale': False},\n",
       "  'Attire': 'casual',\n",
       "  'Caters': False,\n",
       "  'Delivery': False,\n",
       "  'Drive-Thru': False,\n",
       "  'Good For': {'breakfast': False,\n",
       "   'brunch': False,\n",
       "   'dessert': False,\n",
       "   'dinner': False,\n",
       "   'latenight': False,\n",
       "   'lunch': False},\n",
       "  'Good For Groups': True,\n",
       "  'Good for Kids': True,\n",
       "  'Has TV': False,\n",
       "  'Noise Level': 'average',\n",
       "  'Outdoor Seating': False,\n",
       "  'Parking': {'garage': False,\n",
       "   'lot': False,\n",
       "   'street': False,\n",
       "   'valet': False,\n",
       "   'validated': False},\n",
       "  'Price Range': 1,\n",
       "  'Take-out': True,\n",
       "  'Takes Reservations': False,\n",
       "  'Waiter Service': False},\n",
       " 'business_id': '5UmKMjUEUNdYWqANhGckJw',\n",
       " 'categories': ['Fast Food', 'Restaurants'],\n",
       " 'city': 'Dravosburg',\n",
       " 'full_address': '4734 Lebanon Church Rd\\nDravosburg, PA 15034',\n",
       " 'hours': {'Friday': {'close': '21:00', 'open': '11:00'},\n",
       "  'Monday': {'close': '21:00', 'open': '11:00'},\n",
       "  'Thursday': {'close': '21:00', 'open': '11:00'},\n",
       "  'Tuesday': {'close': '21:00', 'open': '11:00'},\n",
       "  'Wednesday': {'close': '21:00', 'open': '11:00'}},\n",
       " 'latitude': 40.3543266,\n",
       " 'longitude': -79.9007057,\n",
       " 'name': 'Mr Hoagie',\n",
       " 'neighborhoods': [],\n",
       " 'open': True,\n",
       " 'review_count': 7,\n",
       " 'stars': 3.5,\n",
       " 'state': 'PA',\n",
       " 'type': 'business'}"
      ]
     },
     "execution_count": 4,
     "metadata": {},
     "output_type": "execute_result"
    }
   ],
   "source": [
    "bus_list[0]"
   ]
  },
  {
   "cell_type": "code",
   "execution_count": 5,
   "metadata": {
    "collapsed": true
   },
   "outputs": [],
   "source": [
    "business_df = pd.DataFrame.from_dict(bus_list)\n",
    "business_df = business_df[['business_id','categories','stars']]\n",
    "#( [category for categories in business_df['categories'] for category in categories] )"
   ]
  },
  {
   "cell_type": "code",
   "execution_count": 6,
   "metadata": {
    "collapsed": true
   },
   "outputs": [],
   "source": [
    "cuisine_df = business_df.apply(lambda x: pd.Series(x['categories']),axis=1).stack().reset_index(level=1, drop=True)"
   ]
  },
  {
   "cell_type": "code",
   "execution_count": 7,
   "metadata": {
    "collapsed": true
   },
   "outputs": [],
   "source": [
    "cuisine_df.name = 'cuisine'"
   ]
  },
  {
   "cell_type": "code",
   "execution_count": 8,
   "metadata": {
    "collapsed": true
   },
   "outputs": [],
   "source": [
    "business_df = business_df.drop('categories',axis=1).join(cuisine_df)"
   ]
  },
  {
   "cell_type": "code",
   "execution_count": 9,
   "metadata": {},
   "outputs": [
    {
     "data": {
      "text/html": [
       "<div>\n",
       "<style>\n",
       "    .dataframe thead tr:only-child th {\n",
       "        text-align: right;\n",
       "    }\n",
       "\n",
       "    .dataframe thead th {\n",
       "        text-align: left;\n",
       "    }\n",
       "\n",
       "    .dataframe tbody tr th {\n",
       "        vertical-align: top;\n",
       "    }\n",
       "</style>\n",
       "<table border=\"1\" class=\"dataframe\">\n",
       "  <thead>\n",
       "    <tr style=\"text-align: right;\">\n",
       "      <th></th>\n",
       "      <th>business_id</th>\n",
       "      <th>stars</th>\n",
       "      <th>cuisine</th>\n",
       "    </tr>\n",
       "  </thead>\n",
       "  <tbody>\n",
       "    <tr>\n",
       "      <th>0</th>\n",
       "      <td>5UmKMjUEUNdYWqANhGckJw</td>\n",
       "      <td>3.5</td>\n",
       "      <td>Fast Food</td>\n",
       "    </tr>\n",
       "    <tr>\n",
       "      <th>0</th>\n",
       "      <td>5UmKMjUEUNdYWqANhGckJw</td>\n",
       "      <td>3.5</td>\n",
       "      <td>Restaurants</td>\n",
       "    </tr>\n",
       "    <tr>\n",
       "      <th>1</th>\n",
       "      <td>UsFtqoBl7naz8AVUBZMjQQ</td>\n",
       "      <td>3.0</td>\n",
       "      <td>Nightlife</td>\n",
       "    </tr>\n",
       "    <tr>\n",
       "      <th>2</th>\n",
       "      <td>cE27W9VPgO88Qxe4ol6y_g</td>\n",
       "      <td>2.5</td>\n",
       "      <td>Active Life</td>\n",
       "    </tr>\n",
       "    <tr>\n",
       "      <th>2</th>\n",
       "      <td>cE27W9VPgO88Qxe4ol6y_g</td>\n",
       "      <td>2.5</td>\n",
       "      <td>Mini Golf</td>\n",
       "    </tr>\n",
       "  </tbody>\n",
       "</table>\n",
       "</div>"
      ],
      "text/plain": [
       "              business_id  stars      cuisine\n",
       "0  5UmKMjUEUNdYWqANhGckJw    3.5    Fast Food\n",
       "0  5UmKMjUEUNdYWqANhGckJw    3.5  Restaurants\n",
       "1  UsFtqoBl7naz8AVUBZMjQQ    3.0    Nightlife\n",
       "2  cE27W9VPgO88Qxe4ol6y_g    2.5  Active Life\n",
       "2  cE27W9VPgO88Qxe4ol6y_g    2.5    Mini Golf"
      ]
     },
     "execution_count": 9,
     "metadata": {},
     "output_type": "execute_result"
    }
   ],
   "source": [
    "business_df.head()"
   ]
  },
  {
   "cell_type": "code",
   "execution_count": null,
   "metadata": {
    "collapsed": true
   },
   "outputs": [],
   "source": []
  },
  {
   "cell_type": "code",
   "execution_count": 10,
   "metadata": {
    "collapsed": true
   },
   "outputs": [],
   "source": [
    "#bus_list = []\n",
    "#whole_dict = {}\n",
    "#res_dict = {}\n",
    "#smaller_dict = {}\n",
    "#for line in open('/Volumes/data/yelp2016/yelp_dataset_challenge_academic_dataset/yelp_academic_dataset_business.json')    :\n",
    "#    temp_dict = {}    \n",
    "#    temp_dict.update(json.loads(line))\n",
    "#    busid = temp_dict[\"business_id\"]\n",
    "#    categories = temp_dict[\"categories\"]\n",
    "#    whole_dict[busid] = categories\n",
    "#    for i in range(len(categories)):\n",
    "#        if categories[i]==\"Restaurants\":\n",
    "#            res_dict[busid]=categories[i]\n",
    "#        if categories[i]==\"Chinese\" or categories[i]==\"Italian\" :\n",
    "#            smaller_dict[busid]={\"categories\":categories[i]}\n",
    "#\n",
    "#print(\"size of whole busid:categorylist: \" + str(len(whole_dict)))  \n",
    "#print(\"number of restaurants: \" + str(len(res_dict)))\n",
    "#print(\"number of chinese or italian restaurants: \" + str(len(smaller_dict)))\n",
    "\n"
   ]
  },
  {
   "cell_type": "code",
   "execution_count": 11,
   "metadata": {},
   "outputs": [
    {
     "name": "stdout",
     "output_type": "stream",
     "text": [
      "Number of businesses in dataset: 85901\n",
      "Number of restaurants: 26729\n",
      "Number of Italian or Chinese Restaurants: 3653\n",
      "Number of Italian Restaurants: 1939\n",
      "Number of Chinese Restaurants: 1714\n"
     ]
    }
   ],
   "source": [
    "(business_df.head())\n",
    "print('Number of businesses in dataset: ' + str(len(business_df['business_id'].unique())))\n",
    "print('Number of restaurants: ' + str(len((business_df[(business_df.cuisine == 'Restaurants')]))))\n",
    "print('Number of Italian or Chinese Restaurants: ' + \n",
    "      str(len((business_df[(business_df.cuisine == 'Italian') | (business_df.cuisine == 'Chinese')]))))\n",
    "print('Number of Italian Restaurants: ' + str(len((business_df[(business_df.cuisine == 'Italian')]))))\n",
    "print('Number of Chinese Restaurants: ' + str(len((business_df[(business_df.cuisine == 'Chinese')]))))"
   ]
  },
  {
   "cell_type": "code",
   "execution_count": 12,
   "metadata": {
    "collapsed": true
   },
   "outputs": [],
   "source": [
    "from pprint import pprint\n",
    "reviews = []\n",
    "with open('/Volumes/data/yelp2016/yelp_dataset_challenge_academic_dataset/yelp_academic_dataset_review.json') as data_file:    \n",
    "    for line in data_file:\n",
    "        reviews.append(json.loads(line))"
   ]
  },
  {
   "cell_type": "code",
   "execution_count": 13,
   "metadata": {},
   "outputs": [
    {
     "data": {
      "text/plain": [
       "{'business_id': '5UmKMjUEUNdYWqANhGckJw',\n",
       " 'date': '2012-08-01',\n",
       " 'review_id': 'Ya85v4eqdd6k9Od8HbQjyA',\n",
       " 'stars': 4,\n",
       " 'text': 'Mr Hoagie is an institution. Walking in, it does seem like a throwback to 30 years ago, old fashioned menu board, booths out of the 70s, and a large selection of food. Their speciality is the Italian Hoagie, and it is voted the best in the area year after year. I usually order the burger, while the patties are obviously cooked from frozen, all of the other ingredients are very fresh. Overall, its a good alternative to Subway, which is down the road.',\n",
       " 'type': 'review',\n",
       " 'user_id': 'PUFPaY9KxDAcGqfsorJp3Q',\n",
       " 'votes': {'cool': 0, 'funny': 0, 'useful': 0}}"
      ]
     },
     "execution_count": 13,
     "metadata": {},
     "output_type": "execute_result"
    }
   ],
   "source": [
    "(reviews[0])"
   ]
  },
  {
   "cell_type": "code",
   "execution_count": 14,
   "metadata": {},
   "outputs": [
    {
     "data": {
      "text/html": [
       "<div>\n",
       "<style>\n",
       "    .dataframe thead tr:only-child th {\n",
       "        text-align: right;\n",
       "    }\n",
       "\n",
       "    .dataframe thead th {\n",
       "        text-align: left;\n",
       "    }\n",
       "\n",
       "    .dataframe tbody tr th {\n",
       "        vertical-align: top;\n",
       "    }\n",
       "</style>\n",
       "<table border=\"1\" class=\"dataframe\">\n",
       "  <thead>\n",
       "    <tr style=\"text-align: right;\">\n",
       "      <th></th>\n",
       "      <th>business_id</th>\n",
       "      <th>date</th>\n",
       "      <th>review_id</th>\n",
       "      <th>stars</th>\n",
       "      <th>text</th>\n",
       "      <th>type</th>\n",
       "      <th>user_id</th>\n",
       "      <th>votes</th>\n",
       "    </tr>\n",
       "  </thead>\n",
       "  <tbody>\n",
       "    <tr>\n",
       "      <th>0</th>\n",
       "      <td>5UmKMjUEUNdYWqANhGckJw</td>\n",
       "      <td>2012-08-01</td>\n",
       "      <td>Ya85v4eqdd6k9Od8HbQjyA</td>\n",
       "      <td>4</td>\n",
       "      <td>Mr Hoagie is an institution. Walking in, it do...</td>\n",
       "      <td>review</td>\n",
       "      <td>PUFPaY9KxDAcGqfsorJp3Q</td>\n",
       "      <td>{'funny': 0, 'useful': 0, 'cool': 0}</td>\n",
       "    </tr>\n",
       "    <tr>\n",
       "      <th>1</th>\n",
       "      <td>5UmKMjUEUNdYWqANhGckJw</td>\n",
       "      <td>2014-02-13</td>\n",
       "      <td>KPvLNJ21_4wbYNctrOwWdQ</td>\n",
       "      <td>5</td>\n",
       "      <td>Excellent food. Superb customer service. I mis...</td>\n",
       "      <td>review</td>\n",
       "      <td>Iu6AxdBYGR4A0wspR9BYHA</td>\n",
       "      <td>{'funny': 0, 'useful': 0, 'cool': 0}</td>\n",
       "    </tr>\n",
       "    <tr>\n",
       "      <th>2</th>\n",
       "      <td>5UmKMjUEUNdYWqANhGckJw</td>\n",
       "      <td>2015-10-31</td>\n",
       "      <td>fFSoGV46Yxuwbr3fHNuZig</td>\n",
       "      <td>5</td>\n",
       "      <td>Yes this place is a little out dated and not o...</td>\n",
       "      <td>review</td>\n",
       "      <td>auESFwWvW42h6alXgFxAXQ</td>\n",
       "      <td>{'funny': 1, 'useful': 1, 'cool': 0}</td>\n",
       "    </tr>\n",
       "    <tr>\n",
       "      <th>3</th>\n",
       "      <td>5UmKMjUEUNdYWqANhGckJw</td>\n",
       "      <td>2015-12-26</td>\n",
       "      <td>pVMIt0a_QsKtuDfWVfSk2A</td>\n",
       "      <td>3</td>\n",
       "      <td>PROS: Italian hoagie was delicious.  Friendly ...</td>\n",
       "      <td>review</td>\n",
       "      <td>qiczib2fO_1VBG8IoCGvVg</td>\n",
       "      <td>{'funny': 0, 'useful': 0, 'cool': 0}</td>\n",
       "    </tr>\n",
       "    <tr>\n",
       "      <th>4</th>\n",
       "      <td>5UmKMjUEUNdYWqANhGckJw</td>\n",
       "      <td>2016-04-08</td>\n",
       "      <td>AEyiQ_Y44isJmNbMTyoMKQ</td>\n",
       "      <td>2</td>\n",
       "      <td>First the only reason this place could possibl...</td>\n",
       "      <td>review</td>\n",
       "      <td>qEE5EvV-f-s7yHC0Z4ydJQ</td>\n",
       "      <td>{'funny': 0, 'useful': 1, 'cool': 0}</td>\n",
       "    </tr>\n",
       "  </tbody>\n",
       "</table>\n",
       "</div>"
      ],
      "text/plain": [
       "              business_id        date               review_id  stars  \\\n",
       "0  5UmKMjUEUNdYWqANhGckJw  2012-08-01  Ya85v4eqdd6k9Od8HbQjyA      4   \n",
       "1  5UmKMjUEUNdYWqANhGckJw  2014-02-13  KPvLNJ21_4wbYNctrOwWdQ      5   \n",
       "2  5UmKMjUEUNdYWqANhGckJw  2015-10-31  fFSoGV46Yxuwbr3fHNuZig      5   \n",
       "3  5UmKMjUEUNdYWqANhGckJw  2015-12-26  pVMIt0a_QsKtuDfWVfSk2A      3   \n",
       "4  5UmKMjUEUNdYWqANhGckJw  2016-04-08  AEyiQ_Y44isJmNbMTyoMKQ      2   \n",
       "\n",
       "                                                text    type  \\\n",
       "0  Mr Hoagie is an institution. Walking in, it do...  review   \n",
       "1  Excellent food. Superb customer service. I mis...  review   \n",
       "2  Yes this place is a little out dated and not o...  review   \n",
       "3  PROS: Italian hoagie was delicious.  Friendly ...  review   \n",
       "4  First the only reason this place could possibl...  review   \n",
       "\n",
       "                  user_id                                 votes  \n",
       "0  PUFPaY9KxDAcGqfsorJp3Q  {'funny': 0, 'useful': 0, 'cool': 0}  \n",
       "1  Iu6AxdBYGR4A0wspR9BYHA  {'funny': 0, 'useful': 0, 'cool': 0}  \n",
       "2  auESFwWvW42h6alXgFxAXQ  {'funny': 1, 'useful': 1, 'cool': 0}  \n",
       "3  qiczib2fO_1VBG8IoCGvVg  {'funny': 0, 'useful': 0, 'cool': 0}  \n",
       "4  qEE5EvV-f-s7yHC0Z4ydJQ  {'funny': 0, 'useful': 1, 'cool': 0}  "
      ]
     },
     "execution_count": 14,
     "metadata": {},
     "output_type": "execute_result"
    }
   ],
   "source": [
    "reviews_df = pd.DataFrame.from_dict(reviews)\n",
    "reviews_df.head()"
   ]
  },
  {
   "cell_type": "code",
   "execution_count": 15,
   "metadata": {},
   "outputs": [
    {
     "data": {
      "text/html": [
       "<div>\n",
       "<style>\n",
       "    .dataframe thead tr:only-child th {\n",
       "        text-align: right;\n",
       "    }\n",
       "\n",
       "    .dataframe thead th {\n",
       "        text-align: left;\n",
       "    }\n",
       "\n",
       "    .dataframe tbody tr th {\n",
       "        vertical-align: top;\n",
       "    }\n",
       "</style>\n",
       "<table border=\"1\" class=\"dataframe\">\n",
       "  <thead>\n",
       "    <tr style=\"text-align: right;\">\n",
       "      <th></th>\n",
       "      <th>business_id</th>\n",
       "      <th>stars</th>\n",
       "      <th>text</th>\n",
       "    </tr>\n",
       "  </thead>\n",
       "  <tbody>\n",
       "    <tr>\n",
       "      <th>0</th>\n",
       "      <td>5UmKMjUEUNdYWqANhGckJw</td>\n",
       "      <td>4</td>\n",
       "      <td>Mr Hoagie is an institution. Walking in, it do...</td>\n",
       "    </tr>\n",
       "    <tr>\n",
       "      <th>1</th>\n",
       "      <td>5UmKMjUEUNdYWqANhGckJw</td>\n",
       "      <td>5</td>\n",
       "      <td>Excellent food. Superb customer service. I mis...</td>\n",
       "    </tr>\n",
       "    <tr>\n",
       "      <th>2</th>\n",
       "      <td>5UmKMjUEUNdYWqANhGckJw</td>\n",
       "      <td>5</td>\n",
       "      <td>Yes this place is a little out dated and not o...</td>\n",
       "    </tr>\n",
       "    <tr>\n",
       "      <th>3</th>\n",
       "      <td>5UmKMjUEUNdYWqANhGckJw</td>\n",
       "      <td>3</td>\n",
       "      <td>PROS: Italian hoagie was delicious.  Friendly ...</td>\n",
       "    </tr>\n",
       "    <tr>\n",
       "      <th>4</th>\n",
       "      <td>5UmKMjUEUNdYWqANhGckJw</td>\n",
       "      <td>2</td>\n",
       "      <td>First the only reason this place could possibl...</td>\n",
       "    </tr>\n",
       "  </tbody>\n",
       "</table>\n",
       "</div>"
      ],
      "text/plain": [
       "              business_id  stars  \\\n",
       "0  5UmKMjUEUNdYWqANhGckJw      4   \n",
       "1  5UmKMjUEUNdYWqANhGckJw      5   \n",
       "2  5UmKMjUEUNdYWqANhGckJw      5   \n",
       "3  5UmKMjUEUNdYWqANhGckJw      3   \n",
       "4  5UmKMjUEUNdYWqANhGckJw      2   \n",
       "\n",
       "                                                text  \n",
       "0  Mr Hoagie is an institution. Walking in, it do...  \n",
       "1  Excellent food. Superb customer service. I mis...  \n",
       "2  Yes this place is a little out dated and not o...  \n",
       "3  PROS: Italian hoagie was delicious.  Friendly ...  \n",
       "4  First the only reason this place could possibl...  "
      ]
     },
     "execution_count": 15,
     "metadata": {},
     "output_type": "execute_result"
    }
   ],
   "source": [
    "reviews_df = reviews_df[['business_id','stars','text']]\n",
    "reviews_df.head()"
   ]
  },
  {
   "cell_type": "code",
   "execution_count": 16,
   "metadata": {},
   "outputs": [
    {
     "data": {
      "text/plain": [
       "business_id    object\n",
       "stars           int64\n",
       "text           object\n",
       "dtype: object"
      ]
     },
     "execution_count": 16,
     "metadata": {},
     "output_type": "execute_result"
    }
   ],
   "source": [
    "reviews_df.dtypes"
   ]
  },
  {
   "cell_type": "code",
   "execution_count": 17,
   "metadata": {
    "collapsed": true
   },
   "outputs": [],
   "source": [
    "businessCI_df = business_df[(business_df.cuisine == 'Chinese') | (business_df.cuisine == 'Italian')]"
   ]
  },
  {
   "cell_type": "code",
   "execution_count": 18,
   "metadata": {},
   "outputs": [
    {
     "data": {
      "text/html": [
       "<div>\n",
       "<style>\n",
       "    .dataframe thead tr:only-child th {\n",
       "        text-align: right;\n",
       "    }\n",
       "\n",
       "    .dataframe thead th {\n",
       "        text-align: left;\n",
       "    }\n",
       "\n",
       "    .dataframe tbody tr th {\n",
       "        vertical-align: top;\n",
       "    }\n",
       "</style>\n",
       "<table border=\"1\" class=\"dataframe\">\n",
       "  <thead>\n",
       "    <tr style=\"text-align: right;\">\n",
       "      <th></th>\n",
       "      <th>business_id</th>\n",
       "      <th>stars_x</th>\n",
       "      <th>cuisine</th>\n",
       "      <th>stars_y</th>\n",
       "      <th>text</th>\n",
       "    </tr>\n",
       "  </thead>\n",
       "  <tbody>\n",
       "    <tr>\n",
       "      <th>0</th>\n",
       "      <td>SQ0j7bgSTazkVQlF5AnqyQ</td>\n",
       "      <td>2.5</td>\n",
       "      <td>Chinese</td>\n",
       "      <td>3</td>\n",
       "      <td>Don Don is a restaurant I find myself missing ...</td>\n",
       "    </tr>\n",
       "    <tr>\n",
       "      <th>1</th>\n",
       "      <td>SQ0j7bgSTazkVQlF5AnqyQ</td>\n",
       "      <td>2.5</td>\n",
       "      <td>Chinese</td>\n",
       "      <td>1</td>\n",
       "      <td>Take it from me; avoid this place at all cost....</td>\n",
       "    </tr>\n",
       "    <tr>\n",
       "      <th>2</th>\n",
       "      <td>SQ0j7bgSTazkVQlF5AnqyQ</td>\n",
       "      <td>2.5</td>\n",
       "      <td>Chinese</td>\n",
       "      <td>4</td>\n",
       "      <td>Don Don is atleast as good as (although I pers...</td>\n",
       "    </tr>\n",
       "    <tr>\n",
       "      <th>3</th>\n",
       "      <td>SQ0j7bgSTazkVQlF5AnqyQ</td>\n",
       "      <td>2.5</td>\n",
       "      <td>Chinese</td>\n",
       "      <td>2</td>\n",
       "      <td>Far away from real Chinese food. Doesn't even ...</td>\n",
       "    </tr>\n",
       "    <tr>\n",
       "      <th>4</th>\n",
       "      <td>SQ0j7bgSTazkVQlF5AnqyQ</td>\n",
       "      <td>2.5</td>\n",
       "      <td>Chinese</td>\n",
       "      <td>2</td>\n",
       "      <td>I used to order takeout here once every month ...</td>\n",
       "    </tr>\n",
       "    <tr>\n",
       "      <th>5</th>\n",
       "      <td>SQ0j7bgSTazkVQlF5AnqyQ</td>\n",
       "      <td>2.5</td>\n",
       "      <td>Chinese</td>\n",
       "      <td>4</td>\n",
       "      <td>Delicious Singapore noodles and seafood deligh...</td>\n",
       "    </tr>\n",
       "    <tr>\n",
       "      <th>6</th>\n",
       "      <td>SQ0j7bgSTazkVQlF5AnqyQ</td>\n",
       "      <td>2.5</td>\n",
       "      <td>Chinese</td>\n",
       "      <td>3</td>\n",
       "      <td>I came here with two friends prior to visiting...</td>\n",
       "    </tr>\n",
       "    <tr>\n",
       "      <th>7</th>\n",
       "      <td>SQ0j7bgSTazkVQlF5AnqyQ</td>\n",
       "      <td>2.5</td>\n",
       "      <td>Chinese</td>\n",
       "      <td>1</td>\n",
       "      <td>I use to order here fairly often.  The past 2 ...</td>\n",
       "    </tr>\n",
       "    <tr>\n",
       "      <th>8</th>\n",
       "      <td>SQ0j7bgSTazkVQlF5AnqyQ</td>\n",
       "      <td>2.5</td>\n",
       "      <td>Chinese</td>\n",
       "      <td>2</td>\n",
       "      <td>We visited Don Don Chinese restaurant in Carne...</td>\n",
       "    </tr>\n",
       "    <tr>\n",
       "      <th>9</th>\n",
       "      <td>P1fJb2WQ1mXoiudj8UE44w</td>\n",
       "      <td>3.5</td>\n",
       "      <td>Italian</td>\n",
       "      <td>5</td>\n",
       "      <td>I brought my husband and my parents all to Pap...</td>\n",
       "    </tr>\n",
       "  </tbody>\n",
       "</table>\n",
       "</div>"
      ],
      "text/plain": [
       "              business_id  stars_x  cuisine  stars_y  \\\n",
       "0  SQ0j7bgSTazkVQlF5AnqyQ      2.5  Chinese        3   \n",
       "1  SQ0j7bgSTazkVQlF5AnqyQ      2.5  Chinese        1   \n",
       "2  SQ0j7bgSTazkVQlF5AnqyQ      2.5  Chinese        4   \n",
       "3  SQ0j7bgSTazkVQlF5AnqyQ      2.5  Chinese        2   \n",
       "4  SQ0j7bgSTazkVQlF5AnqyQ      2.5  Chinese        2   \n",
       "5  SQ0j7bgSTazkVQlF5AnqyQ      2.5  Chinese        4   \n",
       "6  SQ0j7bgSTazkVQlF5AnqyQ      2.5  Chinese        3   \n",
       "7  SQ0j7bgSTazkVQlF5AnqyQ      2.5  Chinese        1   \n",
       "8  SQ0j7bgSTazkVQlF5AnqyQ      2.5  Chinese        2   \n",
       "9  P1fJb2WQ1mXoiudj8UE44w      3.5  Italian        5   \n",
       "\n",
       "                                                text  \n",
       "0  Don Don is a restaurant I find myself missing ...  \n",
       "1  Take it from me; avoid this place at all cost....  \n",
       "2  Don Don is atleast as good as (although I pers...  \n",
       "3  Far away from real Chinese food. Doesn't even ...  \n",
       "4  I used to order takeout here once every month ...  \n",
       "5  Delicious Singapore noodles and seafood deligh...  \n",
       "6  I came here with two friends prior to visiting...  \n",
       "7  I use to order here fairly often.  The past 2 ...  \n",
       "8  We visited Don Don Chinese restaurant in Carne...  \n",
       "9  I brought my husband and my parents all to Pap...  "
      ]
     },
     "execution_count": 18,
     "metadata": {},
     "output_type": "execute_result"
    }
   ],
   "source": [
    "final_df =  pd.merge(businessCI_df,reviews_df,on='business_id')\n",
    "final_df.head(10)"
   ]
  },
  {
   "cell_type": "code",
   "execution_count": 19,
   "metadata": {},
   "outputs": [
    {
     "data": {
      "text/plain": [
       "business_id     object\n",
       "stars_x        float64\n",
       "cuisine         object\n",
       "stars_y          int64\n",
       "text            object\n",
       "dtype: object"
      ]
     },
     "execution_count": 19,
     "metadata": {},
     "output_type": "execute_result"
    }
   ],
   "source": [
    "#final_df['cuisine'] = final_df['cuisine'].astype('category')\n",
    "final_df['text'] = final_df['text'].str.lower()\n",
    "final_df.dtypes"
   ]
  },
  {
   "cell_type": "code",
   "execution_count": 20,
   "metadata": {},
   "outputs": [
    {
     "data": {
      "text/html": [
       "<div>\n",
       "<style>\n",
       "    .dataframe thead tr:only-child th {\n",
       "        text-align: right;\n",
       "    }\n",
       "\n",
       "    .dataframe thead th {\n",
       "        text-align: left;\n",
       "    }\n",
       "\n",
       "    .dataframe tbody tr th {\n",
       "        vertical-align: top;\n",
       "    }\n",
       "</style>\n",
       "<table border=\"1\" class=\"dataframe\">\n",
       "  <thead>\n",
       "    <tr style=\"text-align: right;\">\n",
       "      <th></th>\n",
       "      <th>business_id</th>\n",
       "      <th>stars_x</th>\n",
       "      <th>cuisine</th>\n",
       "      <th>stars_y</th>\n",
       "      <th>text</th>\n",
       "      <th>code</th>\n",
       "    </tr>\n",
       "  </thead>\n",
       "  <tbody>\n",
       "    <tr>\n",
       "      <th>0</th>\n",
       "      <td>SQ0j7bgSTazkVQlF5AnqyQ</td>\n",
       "      <td>2.5</td>\n",
       "      <td>Chinese</td>\n",
       "      <td>3</td>\n",
       "      <td>don don is a restaurant i find myself missing ...</td>\n",
       "      <td>-1</td>\n",
       "    </tr>\n",
       "    <tr>\n",
       "      <th>1</th>\n",
       "      <td>SQ0j7bgSTazkVQlF5AnqyQ</td>\n",
       "      <td>2.5</td>\n",
       "      <td>Chinese</td>\n",
       "      <td>1</td>\n",
       "      <td>take it from me; avoid this place at all cost....</td>\n",
       "      <td>-1</td>\n",
       "    </tr>\n",
       "    <tr>\n",
       "      <th>2</th>\n",
       "      <td>SQ0j7bgSTazkVQlF5AnqyQ</td>\n",
       "      <td>2.5</td>\n",
       "      <td>Chinese</td>\n",
       "      <td>4</td>\n",
       "      <td>don don is atleast as good as (although i pers...</td>\n",
       "      <td>-1</td>\n",
       "    </tr>\n",
       "    <tr>\n",
       "      <th>3</th>\n",
       "      <td>SQ0j7bgSTazkVQlF5AnqyQ</td>\n",
       "      <td>2.5</td>\n",
       "      <td>Chinese</td>\n",
       "      <td>2</td>\n",
       "      <td>far away from real chinese food. doesn't even ...</td>\n",
       "      <td>-1</td>\n",
       "    </tr>\n",
       "    <tr>\n",
       "      <th>4</th>\n",
       "      <td>SQ0j7bgSTazkVQlF5AnqyQ</td>\n",
       "      <td>2.5</td>\n",
       "      <td>Chinese</td>\n",
       "      <td>2</td>\n",
       "      <td>i used to order takeout here once every month ...</td>\n",
       "      <td>-1</td>\n",
       "    </tr>\n",
       "    <tr>\n",
       "      <th>5</th>\n",
       "      <td>SQ0j7bgSTazkVQlF5AnqyQ</td>\n",
       "      <td>2.5</td>\n",
       "      <td>Chinese</td>\n",
       "      <td>4</td>\n",
       "      <td>delicious singapore noodles and seafood deligh...</td>\n",
       "      <td>-1</td>\n",
       "    </tr>\n",
       "    <tr>\n",
       "      <th>6</th>\n",
       "      <td>SQ0j7bgSTazkVQlF5AnqyQ</td>\n",
       "      <td>2.5</td>\n",
       "      <td>Chinese</td>\n",
       "      <td>3</td>\n",
       "      <td>i came here with two friends prior to visiting...</td>\n",
       "      <td>-1</td>\n",
       "    </tr>\n",
       "    <tr>\n",
       "      <th>7</th>\n",
       "      <td>SQ0j7bgSTazkVQlF5AnqyQ</td>\n",
       "      <td>2.5</td>\n",
       "      <td>Chinese</td>\n",
       "      <td>1</td>\n",
       "      <td>i use to order here fairly often.  the past 2 ...</td>\n",
       "      <td>-1</td>\n",
       "    </tr>\n",
       "    <tr>\n",
       "      <th>8</th>\n",
       "      <td>SQ0j7bgSTazkVQlF5AnqyQ</td>\n",
       "      <td>2.5</td>\n",
       "      <td>Chinese</td>\n",
       "      <td>2</td>\n",
       "      <td>we visited don don chinese restaurant in carne...</td>\n",
       "      <td>-1</td>\n",
       "    </tr>\n",
       "    <tr>\n",
       "      <th>9</th>\n",
       "      <td>P1fJb2WQ1mXoiudj8UE44w</td>\n",
       "      <td>3.5</td>\n",
       "      <td>Italian</td>\n",
       "      <td>5</td>\n",
       "      <td>i brought my husband and my parents all to pap...</td>\n",
       "      <td>1</td>\n",
       "    </tr>\n",
       "    <tr>\n",
       "      <th>10</th>\n",
       "      <td>P1fJb2WQ1mXoiudj8UE44w</td>\n",
       "      <td>3.5</td>\n",
       "      <td>Italian</td>\n",
       "      <td>5</td>\n",
       "      <td>papa j's is by far my favorite restaurant in p...</td>\n",
       "      <td>1</td>\n",
       "    </tr>\n",
       "    <tr>\n",
       "      <th>11</th>\n",
       "      <td>P1fJb2WQ1mXoiudj8UE44w</td>\n",
       "      <td>3.5</td>\n",
       "      <td>Italian</td>\n",
       "      <td>4</td>\n",
       "      <td>this is one of my husband's fave restaurants i...</td>\n",
       "      <td>1</td>\n",
       "    </tr>\n",
       "    <tr>\n",
       "      <th>12</th>\n",
       "      <td>P1fJb2WQ1mXoiudj8UE44w</td>\n",
       "      <td>3.5</td>\n",
       "      <td>Italian</td>\n",
       "      <td>4</td>\n",
       "      <td>thanks yelpers for this find. the service, the...</td>\n",
       "      <td>1</td>\n",
       "    </tr>\n",
       "    <tr>\n",
       "      <th>13</th>\n",
       "      <td>P1fJb2WQ1mXoiudj8UE44w</td>\n",
       "      <td>3.5</td>\n",
       "      <td>Italian</td>\n",
       "      <td>5</td>\n",
       "      <td>this place has been a favorite for 20 years si...</td>\n",
       "      <td>1</td>\n",
       "    </tr>\n",
       "    <tr>\n",
       "      <th>14</th>\n",
       "      <td>P1fJb2WQ1mXoiudj8UE44w</td>\n",
       "      <td>3.5</td>\n",
       "      <td>Italian</td>\n",
       "      <td>5</td>\n",
       "      <td>great, authentic, classic italian restaurant i...</td>\n",
       "      <td>1</td>\n",
       "    </tr>\n",
       "    <tr>\n",
       "      <th>15</th>\n",
       "      <td>P1fJb2WQ1mXoiudj8UE44w</td>\n",
       "      <td>3.5</td>\n",
       "      <td>Italian</td>\n",
       "      <td>3</td>\n",
       "      <td>i've been to papa j's twice and had mixed expe...</td>\n",
       "      <td>1</td>\n",
       "    </tr>\n",
       "    <tr>\n",
       "      <th>16</th>\n",
       "      <td>P1fJb2WQ1mXoiudj8UE44w</td>\n",
       "      <td>3.5</td>\n",
       "      <td>Italian</td>\n",
       "      <td>4</td>\n",
       "      <td>i went there for dinner last night with a clie...</td>\n",
       "      <td>1</td>\n",
       "    </tr>\n",
       "    <tr>\n",
       "      <th>17</th>\n",
       "      <td>P1fJb2WQ1mXoiudj8UE44w</td>\n",
       "      <td>3.5</td>\n",
       "      <td>Italian</td>\n",
       "      <td>5</td>\n",
       "      <td>what a wonderful surprise found in carnegie pa...</td>\n",
       "      <td>1</td>\n",
       "    </tr>\n",
       "    <tr>\n",
       "      <th>18</th>\n",
       "      <td>P1fJb2WQ1mXoiudj8UE44w</td>\n",
       "      <td>3.5</td>\n",
       "      <td>Italian</td>\n",
       "      <td>4</td>\n",
       "      <td>yay, i'm a fan but sometimes service is a litt...</td>\n",
       "      <td>1</td>\n",
       "    </tr>\n",
       "    <tr>\n",
       "      <th>19</th>\n",
       "      <td>P1fJb2WQ1mXoiudj8UE44w</td>\n",
       "      <td>3.5</td>\n",
       "      <td>Italian</td>\n",
       "      <td>1</td>\n",
       "      <td>terrible service.  food unremarkable.  waiter ...</td>\n",
       "      <td>1</td>\n",
       "    </tr>\n",
       "  </tbody>\n",
       "</table>\n",
       "</div>"
      ],
      "text/plain": [
       "               business_id  stars_x  cuisine  stars_y  \\\n",
       "0   SQ0j7bgSTazkVQlF5AnqyQ      2.5  Chinese        3   \n",
       "1   SQ0j7bgSTazkVQlF5AnqyQ      2.5  Chinese        1   \n",
       "2   SQ0j7bgSTazkVQlF5AnqyQ      2.5  Chinese        4   \n",
       "3   SQ0j7bgSTazkVQlF5AnqyQ      2.5  Chinese        2   \n",
       "4   SQ0j7bgSTazkVQlF5AnqyQ      2.5  Chinese        2   \n",
       "5   SQ0j7bgSTazkVQlF5AnqyQ      2.5  Chinese        4   \n",
       "6   SQ0j7bgSTazkVQlF5AnqyQ      2.5  Chinese        3   \n",
       "7   SQ0j7bgSTazkVQlF5AnqyQ      2.5  Chinese        1   \n",
       "8   SQ0j7bgSTazkVQlF5AnqyQ      2.5  Chinese        2   \n",
       "9   P1fJb2WQ1mXoiudj8UE44w      3.5  Italian        5   \n",
       "10  P1fJb2WQ1mXoiudj8UE44w      3.5  Italian        5   \n",
       "11  P1fJb2WQ1mXoiudj8UE44w      3.5  Italian        4   \n",
       "12  P1fJb2WQ1mXoiudj8UE44w      3.5  Italian        4   \n",
       "13  P1fJb2WQ1mXoiudj8UE44w      3.5  Italian        5   \n",
       "14  P1fJb2WQ1mXoiudj8UE44w      3.5  Italian        5   \n",
       "15  P1fJb2WQ1mXoiudj8UE44w      3.5  Italian        3   \n",
       "16  P1fJb2WQ1mXoiudj8UE44w      3.5  Italian        4   \n",
       "17  P1fJb2WQ1mXoiudj8UE44w      3.5  Italian        5   \n",
       "18  P1fJb2WQ1mXoiudj8UE44w      3.5  Italian        4   \n",
       "19  P1fJb2WQ1mXoiudj8UE44w      3.5  Italian        1   \n",
       "\n",
       "                                                 text  code  \n",
       "0   don don is a restaurant i find myself missing ...    -1  \n",
       "1   take it from me; avoid this place at all cost....    -1  \n",
       "2   don don is atleast as good as (although i pers...    -1  \n",
       "3   far away from real chinese food. doesn't even ...    -1  \n",
       "4   i used to order takeout here once every month ...    -1  \n",
       "5   delicious singapore noodles and seafood deligh...    -1  \n",
       "6   i came here with two friends prior to visiting...    -1  \n",
       "7   i use to order here fairly often.  the past 2 ...    -1  \n",
       "8   we visited don don chinese restaurant in carne...    -1  \n",
       "9   i brought my husband and my parents all to pap...     1  \n",
       "10  papa j's is by far my favorite restaurant in p...     1  \n",
       "11  this is one of my husband's fave restaurants i...     1  \n",
       "12  thanks yelpers for this find. the service, the...     1  \n",
       "13  this place has been a favorite for 20 years si...     1  \n",
       "14  great, authentic, classic italian restaurant i...     1  \n",
       "15  i've been to papa j's twice and had mixed expe...     1  \n",
       "16  i went there for dinner last night with a clie...     1  \n",
       "17  what a wonderful surprise found in carnegie pa...     1  \n",
       "18  yay, i'm a fan but sometimes service is a litt...     1  \n",
       "19  terrible service.  food unremarkable.  waiter ...     1  "
      ]
     },
     "execution_count": 20,
     "metadata": {},
     "output_type": "execute_result"
    }
   ],
   "source": [
    "final_df[\"code\"] = np.where(final_df[\"cuisine\"].str.contains(\"Italian\"), 1,-1)\n",
    "\n",
    "#pd.Categorical(final_df.cuisine,  [\"Italian\", \"Chinese\"], categories=[1, -1])\n",
    "final_df.head(20)\n"
   ]
  },
  {
   "cell_type": "code",
   "execution_count": 21,
   "metadata": {},
   "outputs": [
    {
     "data": {
      "text/plain": [
       "business_id     object\n",
       "stars_x        float64\n",
       "cuisine         object\n",
       "stars_y          int64\n",
       "text            object\n",
       "code             int64\n",
       "dtype: object"
      ]
     },
     "execution_count": 21,
     "metadata": {},
     "output_type": "execute_result"
    }
   ],
   "source": [
    "\n",
    "final_df.dtypes"
   ]
  },
  {
   "cell_type": "code",
   "execution_count": 22,
   "metadata": {
    "collapsed": true
   },
   "outputs": [],
   "source": [
    "#review_dict = {}\n",
    "#outcome_list = []\n",
    "#for line in open('/Volumes/data/yelp2016/yelp_dataset_challenge_academic_dataset/yelp_academic_dataset_review.json'):\n",
    "#    temp_dict = {}    \n",
    "#    temp_dict.update(json.loads(line))\n",
    "#    review_business = temp_dict[\"business_id\"]\n",
    "#    for business in smaller_dict.keys():\n",
    "#        if review_business == business:\n",
    "#            if review_business in review_dict:\n",
    "#                review_dict[review_business][\"categories\"] = smaller_dict[business][\"categories\"]\n",
    "#                review_dict[review_business][\"revtext\"].append(temp_dict[\"text\"])\n",
    "#                review_dict[review_business][\"rating\"].append(temp_dict[\"stars\"])\n",
    "#            else:\n",
    "#                review_dict[review_business]={\"categories\":smaller_dict[business][\"categories\"],\"revtext\":[temp_dict[\"text\"]],\"rating\":[temp_dict[\"stars\"]]}\n",
    "#print(\"number of businesses in review document: \" + str(len(review_dict)))"
   ]
  },
  {
   "cell_type": "code",
   "execution_count": 23,
   "metadata": {
    "collapsed": true
   },
   "outputs": [],
   "source": [
    "tokenizer = RegexpTokenizer(r'\\s+', gaps=True)\n",
    "\n",
    "# create English stop words list\n",
    "en_stop = set(get_stop_words('en'))\n",
    "# print(en_stop)\n",
    "# Create p_stemmer of class PorterStemmer\n",
    "p_stemmer = PorterStemmer()"
   ]
  },
  {
   "cell_type": "code",
   "execution_count": 24,
   "metadata": {
    "collapsed": true
   },
   "outputs": [],
   "source": [
    "#doc_set = []\n",
    "#outcomes_list = []\n",
    "#doc_outcome = []\n",
    "#for k, v in review_dict.items():\n",
    "#    for i in range(len(review_dict[k][\"revtext\"])):\n",
    "#        if review_dict[k][\"categories\"] == \"Chinese\":\n",
    "#            outcomes_list.append(-1)\n",
    "#            doc_outcome.append((-1,review_dict[k][\"revtext\"][i]))\n",
    "#        else:\n",
    "#            outcomes_list.append(1)\n",
    "#            doc_outcome.append((1,review_dict[k][\"revtext\"][i]))"
   ]
  },
  {
   "cell_type": "code",
   "execution_count": 25,
   "metadata": {},
   "outputs": [
    {
     "name": "stdout",
     "output_type": "stream",
     "text": [
      "Total number of reviews: 215908\n"
     ]
    },
    {
     "data": {
      "text/plain": [
       "(-1,\n",
       " \"don don is a restaurant i find myself missing now and again, it's probably my favorite restaurant in carnegie. simple setup, just a small restaurant with a few tables and a tv. oddly enough i think my favorite thing to eat there is the wonton soup, never had better. the food is average but i always enjoyed eating there, great service and a cheap place to get chinese food.\")"
      ]
     },
     "execution_count": 25,
     "metadata": {},
     "output_type": "execute_result"
    }
   ],
   "source": [
    "doc_outcome = list(zip(final_df.code,final_df.text))\n",
    "print(\"Total number of reviews: \" + str(len(doc_outcome)))\n",
    "doc_outcome[0]"
   ]
  },
  {
   "cell_type": "code",
   "execution_count": 1,
   "metadata": {},
   "outputs": [
    {
     "ename": "NameError",
     "evalue": "name 'texts' is not defined",
     "output_type": "error",
     "traceback": [
      "\u001b[0;31m---------------------------------------------------------------------------\u001b[0m",
      "\u001b[0;31mNameError\u001b[0m                                 Traceback (most recent call last)",
      "\u001b[0;32m<ipython-input-1-bc3bf5f39e8a>\u001b[0m in \u001b[0;36m<module>\u001b[0;34m()\u001b[0m\n\u001b[0;32m----> 1\u001b[0;31m \u001b[0mtype\u001b[0m\u001b[0;34m(\u001b[0m\u001b[0mtexts\u001b[0m\u001b[0;34m[\u001b[0m\u001b[0;36m1\u001b[0m\u001b[0;34m]\u001b[0m\u001b[0;34m)\u001b[0m\u001b[0;34m\u001b[0m\u001b[0m\n\u001b[0m",
      "\u001b[0;31mNameError\u001b[0m: name 'texts' is not defined"
     ]
    }
   ],
   "source": [
    "type(texts[1])"
   ]
  },
  {
   "cell_type": "code",
   "execution_count": null,
   "metadata": {
    "collapsed": true
   },
   "outputs": [],
   "source": [
    "for i in range(len(texts)):\n",
    "    print(texts[i])"
   ]
  },
  {
   "cell_type": "code",
   "execution_count": null,
   "metadata": {
    "collapsed": true
   },
   "outputs": [],
   "source": [
    "np.random(texts)"
   ]
  },
  {
   "cell_type": "code",
   "execution_count": null,
   "metadata": {
    "collapsed": true
   },
   "outputs": [],
   "source": [
    "#model_dict={}\n",
    "#def create_learning_set(text_arr,set_size,model_name):\n",
    "#    count_1 = 0\n",
    "#    count_2 = 0\n",
    "#    temp_outcome = []\n",
    "#    for i in range(len(text_arr)):\n",
    "#        if text_arr[i][0] == 1 and count_1 < set_size/2:\n",
    "#            temp_outcome.append((text_arr[i][0],text_arr[i][1]))\n",
    "#            count_1 = count_1 + 1\n",
    "#        elif text_arr[i][0] == -1 and count_2 < set_size/2:\n",
    "#            temp_outcome.append((text_arr[i][0],text_arr[i][1]))\n",
    "#            count_2 = count_2 + 1\n",
    "#    return(temp_outcome)\n",
    "#\n",
    "#outcomes_list_p, texts_learn_p = create_learning_set(texts,1000)\n",
    "#outcomes_list_2p, texts_learn_2p = create_learning_set(texts,2000)\n",
    "#outcomes_list_all, texts_learn_all = create_learning_set(texts,len(texts))\n"
   ]
  },
  {
   "cell_type": "code",
   "execution_count": null,
   "metadata": {
    "collapsed": true
   },
   "outputs": [],
   "source": [
    "def create_learning_set(text_arr, set_size, model_name):\n",
    "    np.random(8)\n",
    "    "
   ]
  },
  {
   "cell_type": "code",
   "execution_count": null,
   "metadata": {
    "collapsed": true
   },
   "outputs": [],
   "source": [
    "(x[1] for x in texts)"
   ]
  },
  {
   "cell_type": "code",
   "execution_count": null,
   "metadata": {
    "collapsed": true
   },
   "outputs": [],
   "source": [
    "dictionary = corpora.Dictionary([x[1] for x in texts])\n",
    "print(\"there are: \" + str(len(texts)) + \" review documents in the dictionary\")\n",
    "print(\"dictionary done!\")\n",
    "os.system('say \"Finished dictionary\"')"
   ]
  },
  {
   "cell_type": "code",
   "execution_count": null,
   "metadata": {
    "collapsed": true
   },
   "outputs": [],
   "source": [
    "dictionary.values()"
   ]
  },
  {
   "cell_type": "code",
   "execution_count": null,
   "metadata": {
    "collapsed": true
   },
   "outputs": [],
   "source": [
    "\n",
    "def make_corpus(texts_tuple):\n",
    "    text_list = [x[1] for x in texts_tuple]\n",
    "    return  [dictionary.doc2bow(text) for text in text_list]\n",
    "\n",
    "\n",
    "#corpus_p = make_corpus(texts_learn_p)\n",
    "#corpus_2p = make_corpus(texts_learn_2p)\n",
    "#corpus_all = make_corpus(texts_learn_all)\n"
   ]
  },
  {
   "cell_type": "code",
   "execution_count": null,
   "metadata": {
    "collapsed": true
   },
   "outputs": [],
   "source": [
    "def make_model_and_corpus(texts_tuple,num_top, num_pass, model_name):\n",
    "    text_list = [x[1] for x in texts_tuple]\n",
    "    temp_corpus = [dictionary.doc2bow(text) for text in text_list]\n",
    "    print(model_name)\n",
    "    temp_model=models.LdaMulticore(corpus=temp_corpus,num_topics=num_top,id2word=dictionary, passes=num_pass)\n",
    "    temp_model_corpus = temp_model[temp_corpus]\n",
    "    temp_outcomes = [x[0] for x in texts_tuple]\n",
    "    model_dict[model_name] = {\"model\": temp_model,\"model_corpus\": temp_model_corpus, \"outcomes\":temp_outcomes}\n",
    "    print(model_dict)\n",
    "    #model_dict[model_name] = {\"model\": models.ldamodel.LdaModel(corpus_name, num_topics=num_top, id2word = dictionary, passes=pass_num)}\n",
    "    \n",
    "    #modelname.save(\"/Users/rungsunan/spyder/yelpproject/\" + str(modelname))\n",
    "    #print(modelname + \" for \" + corpus + \" complete!\")\n",
    "       \n",
    "#make_model_and_corpus(corpus_p,2,5,\"lda_model_corpus_p\")\n",
    "#make_model_and_corpus(corpus_2p,2,5,\"lda_model_corpus_2p\")\n",
    "#make_model_and_corpus(corpus_all,2,5,\"lda_model_corpus_all\")\n",
    "def save_model_and_corpus(modelname):\n",
    "    model_dict[modelname]['model'].save('/Users/rungsunan/'+ modelname + '.model')\n",
    "    corpora.SvmLightCorpus.serialize('/Users/rungsunan/'+ modelname + '_corpus.svmlight', model_dict[modelname]['model_corpus'],labels=model_dict[modelname]['outcomes'])\n",
    "\n",
    "\n",
    "def load_ldamodel(modelname):\n",
    "    print(modelname)\n",
    "    X_temp, y_temp = load_svmlight_file(\"/Users/rungsunan/\" + modelname)\n",
    "    return (X_temp,y_temp)\n",
    "\n",
    "\n",
    "def train_svm(X, y):\n",
    "    \"\"\"\n",
    "    Create and train the Support Vector Machine.\n",
    "    \"\"\"\n",
    "    clf = svm.SVC(kernel='linear')\n",
    "    clf.fit(X, y)\n",
    "    return clf\n",
    "\n",
    "def histo_corpus(modelname):\n",
    "    histo = []\n",
    "    corpus = model_dict[modelname]['model_corpus']\n",
    "    for doc in corpus:\n",
    "        for i in range(len(doc)):\n",
    "            if doc[i][1] > .1:\n",
    "                histo.append(doc[i][0])\n",
    "    return histo\n",
    "\n",
    "\n",
    "def best_topics (texts_tuple):\n",
    "    grid = defaultdict(list)\n",
    "    param_list = []\n",
    "    perplex_list = []\n",
    "    perword_list = []\n",
    "    text_list = [x[1] for x in texts_tuple]\n",
    "    temp_corpus = [dictionary.doc2bow(text) for text in text_list]\n",
    "    number_of_words = sum(cnt for document in temp_corpus for _, cnt in document)\n",
    "    parameter_list = [2,3,4,5,10,15]\n",
    "    for parameter_value in parameter_list:      \n",
    "        print (\"starting pass for parameter_value = %.3f\" % parameter_value)\n",
    "        model = models.LdaMulticore(corpus=temp_corpus, workers=None, id2word=dictionary, num_topics=parameter_value, passes=4, iterations=20)\n",
    "        perplex = model.bound(temp_corpus) # this is model perplexity not the per word perplexity\n",
    "        print (\"Total Perplexity: %s\" % perplex)\n",
    "        param_list.append(parameter_value)\n",
    "        perplex_list.append(perplex)\n",
    "        grid[parameter_value].append(perplex)\n",
    "\n",
    "    \n",
    "        per_word_perplex = np.exp2(-perplex / number_of_words)\n",
    "        perword_list.append(per_word_perplex)\n",
    "        print (\"Per-word Perplexity: %s\" % per_word_perplex)\n",
    "        grid[parameter_value].append(per_word_perplex)\n",
    "        #model.save(data_path + 'ldaMulticore_i10_T' + str(parameter_value) + '_training_corpus.lda')\n",
    "        print\n",
    "\n",
    "    for numtopics in parameter_list:\n",
    "        print (numtopics, '\\t',  grid[numtopics])\n",
    "    df = pandas.DataFrame(grid)\n",
    "    ax = plt.figure(figsize=(7, 4), dpi=300).add_subplot(111)\n",
    "    df.iloc[1].transpose().plot(ax=ax,  color=\"#254F09\")\n",
    "    plt.xlim(parameter_list[0], parameter_list[-1])\n",
    "    plt.ylabel('Perplexity')\n",
    "    plt.xlabel('topics')\n",
    "    plt.title('')\n",
    "    plt.show()\n",
    "    #df.to_pickle(data_path + 'gensim_multicore_i10_topic_perplexity.df')\n"
   ]
  },
  {
   "cell_type": "code",
   "execution_count": null,
   "metadata": {
    "collapsed": true
   },
   "outputs": [],
   "source": [
    "texts_outcome_p100k = create_learning_set(texts,100000,\"lda_model_corpus_100k\")"
   ]
  },
  {
   "cell_type": "code",
   "execution_count": null,
   "metadata": {
    "collapsed": true
   },
   "outputs": [],
   "source": [
    "texts_outcome_p2 = create_learning_set(texts,1000,\"lda_model_corpus_p2\")\n",
    "texts_outcome_p = create_learning_set(texts,3000,\"lda_model_corpus_p\")\n",
    "texts_outcome_2p = create_learning_set(texts,7000,\"lda_model_corpus_2p\")\n",
    "texts_outcome_p10k = create_learning_set(texts,10000,\"lda_model_corpus_2p\")\n",
    "texts_outcome_p100k = create_learning_set(texts,100000,\"lda_model_corpus_100k\")\n",
    "texts_outcome_all = create_learning_set(texts,len(texts),\"lda_model_corpus_all\")"
   ]
  },
  {
   "cell_type": "code",
   "execution_count": null,
   "metadata": {
    "collapsed": true
   },
   "outputs": [],
   "source": [
    "(texts_outcome_p100k[0])"
   ]
  },
  {
   "cell_type": "code",
   "execution_count": null,
   "metadata": {
    "collapsed": true,
    "scrolled": false
   },
   "outputs": [],
   "source": [
    "best_topics(texts_outcome_p100k)"
   ]
  },
  {
   "cell_type": "code",
   "execution_count": null,
   "metadata": {
    "collapsed": true
   },
   "outputs": [],
   "source": [
    "best_topics(texts_outcome_all)\n",
    "best_topics(texts_outcome_p2)\n",
    "best_topics(texts_outcome_p)\n",
    "best_topics(texts_outcome_2p)\n",
    "best_topics(texts_outcome_p10k)"
   ]
  },
  {
   "cell_type": "code",
   "execution_count": null,
   "metadata": {
    "collapsed": true
   },
   "outputs": [],
   "source": [
    "corpus_p100k = make_corpus(texts_outcome_p100k)"
   ]
  },
  {
   "cell_type": "code",
   "execution_count": null,
   "metadata": {
    "collapsed": true
   },
   "outputs": [],
   "source": [
    "corpus_all = make_corpus(texts_outcome_all)\n",
    "corpus_p10k = make_corpus(texts_outcome_p10k)\n",
    "corpus_p2 = make_corpus(texts_outcome_p2)"
   ]
  },
  {
   "cell_type": "code",
   "execution_count": null,
   "metadata": {
    "collapsed": true
   },
   "outputs": [],
   "source": [
    "make_model_and_corpus(texts_outcome_p100k,5  ,10,\"lda_model_p100k_5topics\")"
   ]
  },
  {
   "cell_type": "code",
   "execution_count": null,
   "metadata": {
    "collapsed": true
   },
   "outputs": [],
   "source": [
    "make_model_and_corpus(texts_outcome_all,2  ,20,\"lda_model_all_2topics\")\n",
    "#make_model_and_corpus(texts_outcome_p10k,2  ,20,\"lda_model_p10k_2topics\")\n",
    "#make_model_and_corpus(texts_outcome_p10k,3  ,20,\"lda_model_p10k_3topics\")\n",
    "#make_model_and_corpus(texts_outcome_p10k,10  ,20,\"lda_model_p10k_10topics\")"
   ]
  },
  {
   "cell_type": "code",
   "execution_count": null,
   "metadata": {
    "collapsed": true
   },
   "outputs": [],
   "source": [
    "save_model_and_corpus('lda_model_p100k_5topics')\n",
    "#save_model_and_corpus('lda_model_p10k_2topics')\n",
    "#save_model_and_corpus('lda_model_p10k_3topics')\n",
    "#save_model_and_corpus('lda_model_p10k_10topics')\n"
   ]
  },
  {
   "cell_type": "code",
   "execution_count": null,
   "metadata": {
    "collapsed": true
   },
   "outputs": [],
   "source": [
    "#(X_all_2topics, y_all_2topics) = load_ldamodel(\"lda_model_all_2topics_corpus.svmlight\")\n",
    "(X_p100k_5topics, y_p100k_5topics) = load_ldamodel(\"lda_model_p100k_5topics_corpus.svmlight\")\n",
    "#(X_p10k_3topics, y_p10k_3topics) = load_ldamodel(\"lda_model_p10k_3topics_corpus.svmlight\")\n",
    "#(X_p10k_10topics, y_p10k_10topics) = load_ldamodel(\"lda_model_p10k_10topics_corpus.svmlight\")\n"
   ]
  },
  {
   "cell_type": "code",
   "execution_count": null,
   "metadata": {
    "collapsed": true
   },
   "outputs": [],
   "source": [
    "#X_train_all_2topics, X_test_all_2topics, y_train_all_2topics, y_test_all_2topics = train_test_split(\n",
    "#  X_all_2topics, y_all_2topics, test_size=0.2, random_state=0)\n",
    "\n",
    "X_train_p100k_5topics, X_test_p100k_5topics, y_train_p100k_5topics, y_test_p100k_5topics = train_test_split(\n",
    "  X_p100k_5topics, y_p100k_5topics, test_size=0.2, random_state=0)\n",
    "#X_train_p10k_3topics, X_test_p10k_3topics, y_train_p10k_3topics, y_test_p10k_3topics = train_test_split(\n",
    "#  X_p10k_3topics, y_p10k_3topics, test_size=0.2, random_state=0)\n",
    "#X_train_p10k_10topics, X_test_p10k_10topics, y_train_p10k_10topics, y_test_p10k_10topics = train_test_split(\n",
    "#  X_p10k_10topics, y_p10k_10topics, test_size=0.2, random_state=0)\n"
   ]
  },
  {
   "cell_type": "code",
   "execution_count": null,
   "metadata": {
    "collapsed": true
   },
   "outputs": [],
   "source": [
    "np.shape(X_train_p100k_5topics)"
   ]
  },
  {
   "cell_type": "code",
   "execution_count": null,
   "metadata": {
    "collapsed": true
   },
   "outputs": [],
   "source": [
    "X_train_p100k_5topics.todense()[0]"
   ]
  },
  {
   "cell_type": "code",
   "execution_count": null,
   "metadata": {
    "collapsed": true
   },
   "outputs": [],
   "source": [
    "grid.fit(p)"
   ]
  },
  {
   "cell_type": "code",
   "execution_count": null,
   "metadata": {
    "collapsed": true
   },
   "outputs": [],
   "source": [
    "k_range = range(1,10)\n",
    "param_grid = dict(n_neighbors=k_range)\n",
    "knn=KNeighborsClassifier()\n",
    "grid=GridSearchCV(knn,param_grid,cv=10,scoring='accuracy',n_jobs=1)"
   ]
  },
  {
   "cell_type": "code",
   "execution_count": null,
   "metadata": {
    "collapsed": true
   },
   "outputs": [],
   "source": [
    "grid.fit(X_p100k_5topics,y_p100k_5topics)"
   ]
  },
  {
   "cell_type": "code",
   "execution_count": null,
   "metadata": {
    "collapsed": true
   },
   "outputs": [],
   "source": [
    "#grid.fit(X_p10k_2topics,y_p10k_2topics)\n",
    "grid.grid_scores_\n",
    "grid.cv_results_['mean_test_score'][0]"
   ]
  },
  {
   "cell_type": "code",
   "execution_count": null,
   "metadata": {
    "collapsed": true
   },
   "outputs": [],
   "source": [
    "s = [result.mean_validation_score for result in grid.grid_scores_]\n",
    "print(grid.cv_results_['mean_test_score'][0])\n",
    "plt.plot(k_range,grid.cv_results_['mean_test_score'][0])\n",
    "plt.xlabel('Value of K for KNN')\n",
    "plt.ylabel('Cross-Validated Accuracy')\n",
    "print(grid.best_score_)\n",
    "print(grid.best_params_)\n",
    "print(grid.best_estimator_)"
   ]
  },
  {
   "cell_type": "code",
   "execution_count": null,
   "metadata": {
    "collapsed": true
   },
   "outputs": [],
   "source": [
    "tuned_parameters = {'kernel':('linear', 'rbf'), 'C':[1, 10]}\n",
    "scores = ['precision','recall']\n",
    "for score in scores:\n",
    "    print(\"# Tuning hyper-parameters for %s\" % score)\n",
    "    print()\n",
    "\n",
    "    clf = GridSearchCV(svm.SVC(), tuned_parameters, cv=10,\n",
    "                       scoring='%s_macro' % score,n_jobs=1, verbose=100)\n",
    "    clf.fit(X_train_p100k_5topics, y_train_p100k_5topics)\n",
    "    #    clf.fit(X_train_p10k_2topics, y_train_p10k_2topics)\n",
    "\n",
    "    print(\"Best parameters set found on development set:\")\n",
    "    print()\n",
    "    print(clf.best_params_)\n",
    "    print()\n",
    "    print(\"Grid scores on development set:\")\n",
    "    print()\n",
    "    means = clf.cv_results_['mean_test_score']\n",
    "    stds = clf.cv_results_['std_test_score']\n",
    "    for mean, std, params in zip(means, stds, clf.cv_results_['params']):\n",
    "        print(\"%0.3f (+/-%0.03f) for %r\"\n",
    "              % (mean, std * 2, params))\n",
    "    print()\n",
    "\n",
    "    print(\"Detailed classification report:\")\n",
    "    print()\n",
    "    print(\"The model is trained on the full development set.\")\n",
    "    print(\"The scores are computed on the full evaluation set.\")\n",
    "    print()\n",
    "    y_true_p100k_5topics, y_pred_p100k_5topics = y_test_p100k_5topics, clf.predict(X_test_p100k_5topics)\n",
    "    print(classification_report(y_true_p100k_5topics, y_pred_p100k_5topics))\n",
    "    print(confusion_matrix(y_true_p100k_5topics, y_pred_p100k_5topics))\n",
    "    print()\n",
    "    os.system('say \"doc set done\"')"
   ]
  },
  {
   "cell_type": "code",
   "execution_count": null,
   "metadata": {
    "collapsed": true
   },
   "outputs": [],
   "source": [
    "k_range = range(1,25)\n",
    "param_grid = dict(n_neighbors=k_range)\n",
    "knn=KNeighborsClassifier()\n",
    "grid=GridSearchCV(knn,param_grid,cv=10,scoring='accuracy',n_jobs=-1)\n",
    "grid.fit(X_p10k_3topics,y_p10k_3topics)\n",
    "grid.grid_scores_\n",
    "grid_mean_scores = [result.mean_validation_score for result in grid.grid_scores_]\n",
    "print(grid_mean_scores)\n",
    "plt.plot(k_range,grid_mean_scores)\n",
    "plt.xlabel('Value of K for KNN')\n",
    "plt.ylabel('Cross-Validated Accuracy')\n",
    "print(grid.best_score_)\n",
    "print(grid.best_params_)\n",
    "print(grid.best_estimator_)"
   ]
  },
  {
   "cell_type": "code",
   "execution_count": null,
   "metadata": {
    "collapsed": true
   },
   "outputs": [],
   "source": [
    "tuned_parameters = {'kernel':('linear', 'rbf'), 'C':[1, 10,100,1000]}\n",
    "scores = ['precision','recall']\n",
    "for score in scores:\n",
    "    print(\"# Tuning hyper-parameters for %s\" % score)\n",
    "    print()\n",
    "\n",
    "    clf = GridSearchCV(svm.SVC(), tuned_parameters, cv=10,\n",
    "                       scoring='%s_macro' % score,n_jobs=-1)\n",
    "    clf.fit(X_train_p10k_3topics, y_train_p10k_3topics)\n",
    "\n",
    "    print(\"Best parameters set found on development set:\")\n",
    "    print()\n",
    "    print(clf.best_params_)\n",
    "    print()\n",
    "    print(\"Grid scores on development set:\")\n",
    "    print()\n",
    "    means = clf.cv_results_['mean_test_score']\n",
    "    stds = clf.cv_results_['std_test_score']\n",
    "    for mean, std, params in zip(means, stds, clf.cv_results_['params']):\n",
    "        print(\"%0.3f (+/-%0.03f) for %r\"\n",
    "              % (mean, std * 2, params))\n",
    "    print()\n",
    "\n",
    "    print(\"Detailed classification report:\")\n",
    "    print()\n",
    "    print(\"The model is trained on the full development set.\")\n",
    "    print(\"The scores are computed on the full evaluation set.\")\n",
    "    print()\n",
    "    y_true_p10k_3topics, y_pred_p10k_3topics = y_test_p10k_3topics, clf.predict(X_test_p10k_3topics)\n",
    "    print(classification_report(y_true_p10k_3topics, y_pred_p10k_3topics))\n",
    "    print(confusion_matrix(y_true_p10k_3topics, y_pred_p10k_3topics))\n",
    "    print()\n",
    "    os.system('say \"doc set done\"')\n"
   ]
  },
  {
   "cell_type": "code",
   "execution_count": null,
   "metadata": {
    "collapsed": true
   },
   "outputs": [],
   "source": [
    "k_range = range(1,25)\n",
    "param_grid = dict(n_neighbors=k_range)\n",
    "knn=KNeighborsClassifier()\n",
    "grid=GridSearchCV(knn,param_grid,cv=10,scoring='accuracy',n_jobs=-1)\n",
    "grid.fit(X_p10k_10topics,y_p10k_10topics)\n",
    "grid.grid_scores_\n",
    "grid_mean_scores = [result.mean_validation_score for result in grid.grid_scores_]\n",
    "print(grid_mean_scores)\n",
    "plt.plot(k_range,grid_mean_scores)\n",
    "plt.xlabel('Value of K for KNN')\n",
    "plt.ylabel('Cross-Validated Accuracy')\n",
    "print(grid.best_score_)\n",
    "print(grid.best_params_)\n",
    "print(grid.best_estimator_)"
   ]
  },
  {
   "cell_type": "code",
   "execution_count": null,
   "metadata": {
    "collapsed": true
   },
   "outputs": [],
   "source": [
    "tuned_parameters = {'kernel':('linear', 'rbf'), 'C':[1, 10,100,1000]}\n",
    "scores = ['precision','recall']\n",
    "for score in scores:\n",
    "    print(\"# Tuning hyper-parameters for %s\" % score)\n",
    "    print()\n",
    "\n",
    "    clf = GridSearchCV(svm.SVC(), tuned_parameters, cv=10,\n",
    "                       scoring='%s_macro' % score,n_jobs=-1)\n",
    "    clf.fit(X_train_p10k_10topics, y_train_p10k_10topics)\n",
    "\n",
    "    print(\"Best parameters set found on development set:\")\n",
    "    print()\n",
    "    print(clf.best_params_)\n",
    "    print()\n",
    "    print(\"Grid scores on development set:\")\n",
    "    print()\n",
    "    means = clf.cv_results_['mean_test_score']\n",
    "    stds = clf.cv_results_['std_test_score']\n",
    "    for mean, std, params in zip(means, stds, clf.cv_results_['params']):\n",
    "        print(\"%0.3f (+/-%0.03f) for %r\"\n",
    "              % (mean, std * 2, params))\n",
    "    print()\n",
    "\n",
    "    print(\"Detailed classification report:\")\n",
    "    print()\n",
    "    print(\"The model is trained on the full development set.\")\n",
    "    print(\"The scores are computed on the full evaluation set.\")\n",
    "    print()\n",
    "    y_true_p10k_10topics, y_pred_p10k_10topics = y_test_p10k_10topics, clf.predict(X_test_p10k_10topics)\n",
    "    print(classification_report(y_true_p10k_10topics, y_pred_p10k_10topics))\n",
    "    print(confusion_matrix(y_true_p10k_10topics, y_pred_p10k_10topics))\n",
    "    print()\n",
    "    os.system('say \"doc set done\"')"
   ]
  },
  {
   "cell_type": "code",
   "execution_count": null,
   "metadata": {
    "collapsed": true
   },
   "outputs": [],
   "source": [
    "histo_2p = histo_corpus(\"lda_model_p2\")\n",
    "plt.hist(histo_2p)"
   ]
  },
  {
   "cell_type": "code",
   "execution_count": null,
   "metadata": {
    "collapsed": true
   },
   "outputs": [],
   "source": []
  },
  {
   "cell_type": "code",
   "execution_count": null,
   "metadata": {
    "collapsed": true
   },
   "outputs": [],
   "source": []
  },
  {
   "cell_type": "code",
   "execution_count": null,
   "metadata": {
    "collapsed": true
   },
   "outputs": [],
   "source": [
    "globals()"
   ]
  },
  {
   "cell_type": "code",
   "execution_count": null,
   "metadata": {
    "collapsed": true
   },
   "outputs": [],
   "source": []
  },
  {
   "cell_type": "code",
   "execution_count": null,
   "metadata": {
    "collapsed": true
   },
   "outputs": [],
   "source": []
  },
  {
   "cell_type": "code",
   "execution_count": null,
   "metadata": {
    "collapsed": true
   },
   "outputs": [],
   "source": []
  }
 ],
 "metadata": {
  "anaconda-cloud": {},
  "kernelspec": {
   "display_name": "Python [conda env:py36]",
   "language": "python",
   "name": "conda-env-py36-py"
  },
  "language_info": {
   "codemirror_mode": {
    "name": "ipython",
    "version": 3
   },
   "file_extension": ".py",
   "mimetype": "text/x-python",
   "name": "python",
   "nbconvert_exporter": "python",
   "pygments_lexer": "ipython3",
   "version": "3.6.2"
  }
 },
 "nbformat": 4,
 "nbformat_minor": 2
}
